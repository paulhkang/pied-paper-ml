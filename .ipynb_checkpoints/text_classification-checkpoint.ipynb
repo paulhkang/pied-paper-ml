{
 "cells": [
  {
   "cell_type": "markdown",
   "metadata": {
    "id": "_tUDem9IAFqO"
   },
   "source": [
    "Mount to Google Drive directory (not necessary if on local machine)"
   ]
  },
  {
   "cell_type": "code",
   "execution_count": 1,
   "metadata": {
    "colab": {
     "base_uri": "https://localhost:8080/"
    },
    "executionInfo": {
     "elapsed": 16720,
     "status": "ok",
     "timestamp": 1653173162640,
     "user": {
      "displayName": "Paul Kang",
      "userId": "12965346162025885549"
     },
     "user_tz": 240
    },
    "id": "q8F5gmX9YBsX",
    "outputId": "f18d7e6f-ccac-441e-d01c-e3433e987085"
   },
   "outputs": [
    {
     "name": "stdout",
     "output_type": "stream",
     "text": [
      "Mounted at /content/drive\n"
     ]
    }
   ],
   "source": [
    "from google.colab import drive\n",
    "drive.mount('/content/drive')"
   ]
  },
  {
   "cell_type": "code",
   "execution_count": 2,
   "metadata": {
    "colab": {
     "base_uri": "https://localhost:8080/"
    },
    "executionInfo": {
     "elapsed": 13,
     "status": "ok",
     "timestamp": 1653173162641,
     "user": {
      "displayName": "Paul Kang",
      "userId": "12965346162025885549"
     },
     "user_tz": 240
    },
    "id": "pBitQV7SYQYR",
    "outputId": "41b1eb14-5a9e-4dd2-efaa-7e3049440907"
   },
   "outputs": [
    {
     "name": "stdout",
     "output_type": "stream",
     "text": [
      "/content/drive/My Drive/pied-paper\n"
     ]
    }
   ],
   "source": [
    "%cd /content/drive/My\\ Drive/pied-paper"
   ]
  },
  {
   "cell_type": "markdown",
   "metadata": {
    "id": "lPacAmF_AMGW"
   },
   "source": [
    "Change PyTorch and Torchtext version (using legacy features)"
   ]
  },
  {
   "cell_type": "code",
   "execution_count": 1,
   "metadata": {
    "colab": {
     "base_uri": "https://localhost:8080/"
    },
    "executionInfo": {
     "elapsed": 104329,
     "status": "ok",
     "timestamp": 1653173266963,
     "user": {
      "displayName": "Paul Kang",
      "userId": "12965346162025885549"
     },
     "user_tz": 240
    },
    "id": "OENwY5mBYSDJ",
    "outputId": "75c51fd7-2a76-4562-cb48-92f02fd0de97"
   },
   "outputs": [
    {
     "name": "stdout",
     "output_type": "stream",
     "text": [
      "Requirement already satisfied: torch==1.8.0 in c:\\users\\paulh\\appdata\\local\\programs\\python\\python39\\lib\\site-packages (1.8.0+cpu)\n",
      "Requirement already satisfied: typing-extensions in c:\\users\\paulh\\appdata\\local\\programs\\python\\python39\\lib\\site-packages (from torch==1.8.0) (4.2.0)\n",
      "Requirement already satisfied: numpy in c:\\users\\paulh\\appdata\\local\\programs\\python\\python39\\lib\\site-packages (from torch==1.8.0) (1.22.3)\n"
     ]
    },
    {
     "name": "stderr",
     "output_type": "stream",
     "text": [
      "WARNING: You are using pip version 22.0.4; however, version 22.1 is available.\n",
      "You should consider upgrading via the 'C:\\Users\\paulh\\AppData\\Local\\Programs\\Python\\Python39\\python.exe -m pip install --upgrade pip' command.\n"
     ]
    },
    {
     "name": "stdout",
     "output_type": "stream",
     "text": [
      "Requirement already satisfied: torchtext==0.9.0 in c:\\users\\paulh\\appdata\\local\\programs\\python\\python39\\lib\\site-packages (0.9.0)\n",
      "Requirement already satisfied: numpy in c:\\users\\paulh\\appdata\\local\\programs\\python\\python39\\lib\\site-packages (from torchtext==0.9.0) (1.22.3)\n",
      "Requirement already satisfied: tqdm in c:\\users\\paulh\\appdata\\local\\programs\\python\\python39\\lib\\site-packages (from torchtext==0.9.0) (4.64.0)\n",
      "Requirement already satisfied: requests in c:\\users\\paulh\\appdata\\local\\programs\\python\\python39\\lib\\site-packages (from torchtext==0.9.0) (2.27.1)\n",
      "Requirement already satisfied: torch==1.8.0 in c:\\users\\paulh\\appdata\\local\\programs\\python\\python39\\lib\\site-packages (from torchtext==0.9.0) (1.8.0+cpu)\n",
      "Requirement already satisfied: typing-extensions in c:\\users\\paulh\\appdata\\local\\programs\\python\\python39\\lib\\site-packages (from torch==1.8.0->torchtext==0.9.0) (4.2.0)\n",
      "Requirement already satisfied: urllib3<1.27,>=1.21.1 in c:\\users\\paulh\\appdata\\local\\programs\\python\\python39\\lib\\site-packages (from requests->torchtext==0.9.0) (1.26.9)\n",
      "Requirement already satisfied: certifi>=2017.4.17 in c:\\users\\paulh\\appdata\\local\\programs\\python\\python39\\lib\\site-packages (from requests->torchtext==0.9.0) (2021.10.8)\n",
      "Requirement already satisfied: idna<4,>=2.5 in c:\\users\\paulh\\appdata\\local\\programs\\python\\python39\\lib\\site-packages (from requests->torchtext==0.9.0) (3.3)\n",
      "Requirement already satisfied: charset-normalizer~=2.0.0 in c:\\users\\paulh\\appdata\\local\\programs\\python\\python39\\lib\\site-packages (from requests->torchtext==0.9.0) (2.0.12)\n",
      "Requirement already satisfied: colorama in c:\\users\\paulh\\appdata\\local\\programs\\python\\python39\\lib\\site-packages (from tqdm->torchtext==0.9.0) (0.4.4)\n"
     ]
    },
    {
     "name": "stderr",
     "output_type": "stream",
     "text": [
      "WARNING: You are using pip version 22.0.4; however, version 22.1 is available.\n",
      "You should consider upgrading via the 'C:\\Users\\paulh\\AppData\\Local\\Programs\\Python\\Python39\\python.exe -m pip install --upgrade pip' command.\n"
     ]
    }
   ],
   "source": [
    "!pip install --upgrade torch==1.8.0\n",
    "!pip install --upgrade torchtext==0.9.0\n",
    "# !pip show torch\n",
    "# !pip show torchtext"
   ]
  },
  {
   "cell_type": "markdown",
   "metadata": {
    "id": "4AHmk2PQ_eo2"
   },
   "source": [
    "Download spacy tokenizer"
   ]
  },
  {
   "cell_type": "code",
   "execution_count": 2,
   "metadata": {
    "colab": {
     "base_uri": "https://localhost:8080/"
    },
    "executionInfo": {
     "elapsed": 10042,
     "status": "ok",
     "timestamp": 1653193184597,
     "user": {
      "displayName": "Paul Kang",
      "userId": "12965346162025885549"
     },
     "user_tz": 240
    },
    "id": "PUh4L8qW_b7w",
    "outputId": "64cd1ef8-00c9-4ba2-a461-5d8a736731d5"
   },
   "outputs": [
    {
     "name": "stdout",
     "output_type": "stream",
     "text": [
      "Collecting en-core-web-sm==3.3.0\n",
      "  Downloading https://github.com/explosion/spacy-models/releases/download/en_core_web_sm-3.3.0/en_core_web_sm-3.3.0-py3-none-any.whl (12.8 MB)\n",
      "     ---------------------------------------- 12.8/12.8 MB 9.9 MB/s eta 0:00:00\n",
      "Requirement already satisfied: spacy<3.4.0,>=3.3.0.dev0 in c:\\users\\paulh\\appdata\\local\\programs\\python\\python39\\lib\\site-packages (from en-core-web-sm==3.3.0) (3.3.0)\n",
      "Requirement already satisfied: tqdm<5.0.0,>=4.38.0 in c:\\users\\paulh\\appdata\\local\\programs\\python\\python39\\lib\\site-packages (from spacy<3.4.0,>=3.3.0.dev0->en-core-web-sm==3.3.0) (4.64.0)\n",
      "Requirement already satisfied: langcodes<4.0.0,>=3.2.0 in c:\\users\\paulh\\appdata\\local\\programs\\python\\python39\\lib\\site-packages (from spacy<3.4.0,>=3.3.0.dev0->en-core-web-sm==3.3.0) (3.3.0)\n",
      "Requirement already satisfied: requests<3.0.0,>=2.13.0 in c:\\users\\paulh\\appdata\\local\\programs\\python\\python39\\lib\\site-packages (from spacy<3.4.0,>=3.3.0.dev0->en-core-web-sm==3.3.0) (2.27.1)\n",
      "Requirement already satisfied: pydantic!=1.8,!=1.8.1,<1.9.0,>=1.7.4 in c:\\users\\paulh\\appdata\\local\\programs\\python\\python39\\lib\\site-packages (from spacy<3.4.0,>=3.3.0.dev0->en-core-web-sm==3.3.0) (1.8.2)\n",
      "Requirement already satisfied: murmurhash<1.1.0,>=0.28.0 in c:\\users\\paulh\\appdata\\local\\programs\\python\\python39\\lib\\site-packages (from spacy<3.4.0,>=3.3.0.dev0->en-core-web-sm==3.3.0) (1.0.7)\n",
      "Requirement already satisfied: blis<0.8.0,>=0.4.0 in c:\\users\\paulh\\appdata\\local\\programs\\python\\python39\\lib\\site-packages (from spacy<3.4.0,>=3.3.0.dev0->en-core-web-sm==3.3.0) (0.7.7)\n",
      "Requirement already satisfied: setuptools in c:\\users\\paulh\\appdata\\local\\programs\\python\\python39\\lib\\site-packages (from spacy<3.4.0,>=3.3.0.dev0->en-core-web-sm==3.3.0) (58.1.0)\n",
      "Requirement already satisfied: preshed<3.1.0,>=3.0.2 in c:\\users\\paulh\\appdata\\local\\programs\\python\\python39\\lib\\site-packages (from spacy<3.4.0,>=3.3.0.dev0->en-core-web-sm==3.3.0) (3.0.6)\n",
      "Requirement already satisfied: pathy>=0.3.5 in c:\\users\\paulh\\appdata\\local\\programs\\python\\python39\\lib\\site-packages (from spacy<3.4.0,>=3.3.0.dev0->en-core-web-sm==3.3.0) (0.6.1)\n",
      "Requirement already satisfied: spacy-legacy<3.1.0,>=3.0.9 in c:\\users\\paulh\\appdata\\local\\programs\\python\\python39\\lib\\site-packages (from spacy<3.4.0,>=3.3.0.dev0->en-core-web-sm==3.3.0) (3.0.9)\n",
      "Requirement already satisfied: catalogue<2.1.0,>=2.0.6 in c:\\users\\paulh\\appdata\\local\\programs\\python\\python39\\lib\\site-packages (from spacy<3.4.0,>=3.3.0.dev0->en-core-web-sm==3.3.0) (2.0.7)\n",
      "Requirement already satisfied: packaging>=20.0 in c:\\users\\paulh\\appdata\\local\\programs\\python\\python39\\lib\\site-packages (from spacy<3.4.0,>=3.3.0.dev0->en-core-web-sm==3.3.0) (21.3)\n",
      "Requirement already satisfied: wasabi<1.1.0,>=0.9.1 in c:\\users\\paulh\\appdata\\local\\programs\\python\\python39\\lib\\site-packages (from spacy<3.4.0,>=3.3.0.dev0->en-core-web-sm==3.3.0) (0.9.1)\n",
      "Requirement already satisfied: thinc<8.1.0,>=8.0.14 in c:\\users\\paulh\\appdata\\local\\programs\\python\\python39\\lib\\site-packages (from spacy<3.4.0,>=3.3.0.dev0->en-core-web-sm==3.3.0) (8.0.15)\n",
      "Requirement already satisfied: numpy>=1.15.0 in c:\\users\\paulh\\appdata\\local\\programs\\python\\python39\\lib\\site-packages (from spacy<3.4.0,>=3.3.0.dev0->en-core-web-sm==3.3.0) (1.22.3)\n",
      "Requirement already satisfied: jinja2 in c:\\users\\paulh\\appdata\\local\\programs\\python\\python39\\lib\\site-packages (from spacy<3.4.0,>=3.3.0.dev0->en-core-web-sm==3.3.0) (3.1.2)\n",
      "Requirement already satisfied: srsly<3.0.0,>=2.4.3 in c:\\users\\paulh\\appdata\\local\\programs\\python\\python39\\lib\\site-packages (from spacy<3.4.0,>=3.3.0.dev0->en-core-web-sm==3.3.0) (2.4.3)\n",
      "Requirement already satisfied: spacy-loggers<2.0.0,>=1.0.0 in c:\\users\\paulh\\appdata\\local\\programs\\python\\python39\\lib\\site-packages (from spacy<3.4.0,>=3.3.0.dev0->en-core-web-sm==3.3.0) (1.0.2)\n",
      "Requirement already satisfied: cymem<2.1.0,>=2.0.2 in c:\\users\\paulh\\appdata\\local\\programs\\python\\python39\\lib\\site-packages (from spacy<3.4.0,>=3.3.0.dev0->en-core-web-sm==3.3.0) (2.0.6)\n",
      "Requirement already satisfied: typer<0.5.0,>=0.3.0 in c:\\users\\paulh\\appdata\\local\\programs\\python\\python39\\lib\\site-packages (from spacy<3.4.0,>=3.3.0.dev0->en-core-web-sm==3.3.0) (0.4.1)\n",
      "Requirement already satisfied: pyparsing!=3.0.5,>=2.0.2 in c:\\users\\paulh\\appdata\\local\\programs\\python\\python39\\lib\\site-packages (from packaging>=20.0->spacy<3.4.0,>=3.3.0.dev0->en-core-web-sm==3.3.0) (3.0.8)\n",
      "Requirement already satisfied: smart-open<6.0.0,>=5.0.0 in c:\\users\\paulh\\appdata\\local\\programs\\python\\python39\\lib\\site-packages (from pathy>=0.3.5->spacy<3.4.0,>=3.3.0.dev0->en-core-web-sm==3.3.0) (5.2.1)\n",
      "Requirement already satisfied: typing-extensions>=3.7.4.3 in c:\\users\\paulh\\appdata\\local\\programs\\python\\python39\\lib\\site-packages (from pydantic!=1.8,!=1.8.1,<1.9.0,>=1.7.4->spacy<3.4.0,>=3.3.0.dev0->en-core-web-sm==3.3.0) (4.2.0)\n",
      "Requirement already satisfied: certifi>=2017.4.17 in c:\\users\\paulh\\appdata\\local\\programs\\python\\python39\\lib\\site-packages (from requests<3.0.0,>=2.13.0->spacy<3.4.0,>=3.3.0.dev0->en-core-web-sm==3.3.0) (2021.10.8)\n",
      "Requirement already satisfied: charset-normalizer~=2.0.0 in c:\\users\\paulh\\appdata\\local\\programs\\python\\python39\\lib\\site-packages (from requests<3.0.0,>=2.13.0->spacy<3.4.0,>=3.3.0.dev0->en-core-web-sm==3.3.0) (2.0.12)\n",
      "Requirement already satisfied: idna<4,>=2.5 in c:\\users\\paulh\\appdata\\local\\programs\\python\\python39\\lib\\site-packages (from requests<3.0.0,>=2.13.0->spacy<3.4.0,>=3.3.0.dev0->en-core-web-sm==3.3.0) (3.3)\n",
      "Requirement already satisfied: urllib3<1.27,>=1.21.1 in c:\\users\\paulh\\appdata\\local\\programs\\python\\python39\\lib\\site-packages (from requests<3.0.0,>=2.13.0->spacy<3.4.0,>=3.3.0.dev0->en-core-web-sm==3.3.0) (1.26.9)\n",
      "Requirement already satisfied: colorama in c:\\users\\paulh\\appdata\\local\\programs\\python\\python39\\lib\\site-packages (from tqdm<5.0.0,>=4.38.0->spacy<3.4.0,>=3.3.0.dev0->en-core-web-sm==3.3.0) (0.4.4)\n",
      "Requirement already satisfied: click<9.0.0,>=7.1.1 in c:\\users\\paulh\\appdata\\local\\programs\\python\\python39\\lib\\site-packages (from typer<0.5.0,>=0.3.0->spacy<3.4.0,>=3.3.0.dev0->en-core-web-sm==3.3.0) (8.1.3)\n",
      "Requirement already satisfied: MarkupSafe>=2.0 in c:\\users\\paulh\\appdata\\local\\programs\\python\\python39\\lib\\site-packages (from jinja2->spacy<3.4.0,>=3.3.0.dev0->en-core-web-sm==3.3.0) (2.1.1)\n",
      "[!] As of spaCy v3.0, shortcuts like 'en' are deprecated. Please use the full\n",
      "pipeline package name 'en_core_web_sm' instead.\n",
      "[+] Download and installation successful\n",
      "You can now load the package via spacy.load('en_core_web_sm')\n"
     ]
    },
    {
     "name": "stderr",
     "output_type": "stream",
     "text": [
      "WARNING: You are using pip version 22.0.4; however, version 22.1 is available.\n",
      "You should consider upgrading via the 'C:\\Users\\paulh\\AppData\\Local\\Programs\\Python\\Python39\\python.exe -m pip install --upgrade pip' command.\n"
     ]
    }
   ],
   "source": [
    "!python -m spacy download en"
   ]
  },
  {
   "cell_type": "markdown",
   "metadata": {
    "id": "cZpxHBQPYekf"
   },
   "source": [
    "Data has already been preprocessed; it is in 'preprocessed/'"
   ]
  },
  {
   "cell_type": "code",
   "execution_count": 3,
   "metadata": {
    "colab": {
     "base_uri": "https://localhost:8080/",
     "height": 374
    },
    "executionInfo": {
     "elapsed": 2949,
     "status": "error",
     "timestamp": 1653193235439,
     "user": {
      "displayName": "Paul Kang",
      "userId": "12965346162025885549"
     },
     "user_tz": 240
    },
    "id": "8yd57nUjYhr9",
    "outputId": "a5401330-e09d-4797-9e23-c1cdac6aa0d1"
   },
   "outputs": [
    {
     "name": "stderr",
     "output_type": "stream",
     "text": [
      "C:\\Users\\paulh\\AppData\\Local\\Programs\\Python\\Python39\\lib\\site-packages\\tqdm\\auto.py:22: TqdmWarning: IProgress not found. Please update jupyter and ipywidgets. See https://ipywidgets.readthedocs.io/en/stable/user_install.html\n",
      "  from .autonotebook import tqdm as notebook_tqdm\n"
     ]
    }
   ],
   "source": [
    "import matplotlib.pyplot as plt\n",
    "import pandas as pd\n",
    "import torch\n",
    "\n",
    "from torchtext.legacy.data import Field, TabularDataset, BucketIterator\n",
    "\n",
    "import torch.nn as nn\n",
    "from torch.nn.utils.rnn import pack_padded_sequence, pad_packed_sequence\n",
    "\n",
    "import torch.optim as optim\n",
    "\n",
    "from sklearn.metrics import accuracy_score, classification_report, confusion_matrix\n",
    "import seaborn as sns"
   ]
  },
  {
   "cell_type": "code",
   "execution_count": 4,
   "metadata": {
    "executionInfo": {
     "elapsed": 4,
     "status": "aborted",
     "timestamp": 1653193235438,
     "user": {
      "displayName": "Paul Kang",
      "userId": "12965346162025885549"
     },
     "user_tz": 240
    },
    "id": "QNKuex5QYjRW"
   },
   "outputs": [],
   "source": [
    "device = torch.device('cuda' if torch.cuda.is_available() else 'cpu')"
   ]
  },
  {
   "cell_type": "markdown",
   "metadata": {
    "id": "GnBrdlRIASu6"
   },
   "source": [
    "Load data as train, valid, test data"
   ]
  },
  {
   "cell_type": "code",
   "execution_count": 5,
   "metadata": {
    "executionInfo": {
     "elapsed": 24152,
     "status": "ok",
     "timestamp": 1653173293027,
     "user": {
      "displayName": "Paul Kang",
      "userId": "12965346162025885549"
     },
     "user_tz": 240
    },
    "id": "QiXEUHH7Yn4k"
   },
   "outputs": [
    {
     "name": "stderr",
     "output_type": "stream",
     "text": [
      "C:\\Users\\paulh\\AppData\\Local\\Programs\\Python\\Python39\\lib\\site-packages\\torchtext\\data\\utils.py:123: UserWarning: Spacy model \"en\" could not be loaded, trying \"en_core_web_sm\" instead\n",
      "  warnings.warn(f'Spacy model \"{language}\" could not be loaded, trying \"{OLD_MODEL_SHORTCUTS[language]}\" instead')\n"
     ]
    }
   ],
   "source": [
    "# Fields\n",
    "\n",
    "label_field = Field(sequential=False, use_vocab=False, batch_first=True, dtype=torch.long)\n",
    "text_field = Field(tokenize='spacy', lower=True, include_lengths=True, batch_first=True, fix_length=200)\n",
    "fields = [('label', label_field), ('title', text_field), ('text', text_field), ('titletext', text_field)]\n",
    "\n",
    "# TabularDataset\n",
    "\n",
    "train, valid, test = TabularDataset.splits(path='preprocessed', train='train.csv', validation='valid.csv', test='test.csv',\n",
    "                                           format='CSV', fields=fields, skip_header=True)\n",
    "\n",
    "# Iterators\n",
    "\n",
    "train_iter = BucketIterator(train, batch_size=32, sort_key=lambda x: len(x.text),\n",
    "                            device=device, sort=True, sort_within_batch=True)\n",
    "valid_iter = BucketIterator(valid, batch_size=32, sort_key=lambda x: len(x.text),\n",
    "                            device=device, sort=True, sort_within_batch=True)\n",
    "test_iter = BucketIterator(test, batch_size=32, sort_key=lambda x: len(x.text),\n",
    "                            device=device, sort=True, sort_within_batch=True)\n",
    "\n",
    "# Vocabulary\n",
    "\n",
    "text_field.build_vocab(train, min_freq=3, vectors=\"glove.6B.100d\")"
   ]
  },
  {
   "cell_type": "markdown",
   "metadata": {
    "id": "eci-NAWbAYj-"
   },
   "source": [
    "Build vocabulary and print example words"
   ]
  },
  {
   "cell_type": "code",
   "execution_count": 6,
   "metadata": {
    "colab": {
     "base_uri": "https://localhost:8080/"
    },
    "executionInfo": {
     "elapsed": 19,
     "status": "ok",
     "timestamp": 1653173293028,
     "user": {
      "displayName": "Paul Kang",
      "userId": "12965346162025885549"
     },
     "user_tz": 240
    },
    "id": "bk4Ks6iQZH7I",
    "outputId": "0fe1f57f-b72b-4802-8ddb-7500d8581213"
   },
   "outputs": [
    {
     "name": "stdout",
     "output_type": "stream",
     "text": [
      "Number of tokens:  21\n",
      "\n",
      "\n",
      "Print first 200 tokens:  ['killing', 'obama', 'administration', 'rules', ',', 'dismantling', 'obamacare', 'and', 'pushing', 'through', 'tax', 'reform', 'are', 'on', 'the', 'early', 'to', '-', 'do', 'list', '.']\n",
      "\n",
      "\n",
      "Print last 10 tokens:  ['reform', 'are', 'on', 'the', 'early', 'to', '-', 'do', 'list', '.']\n"
     ]
    }
   ],
   "source": [
    "examples = train.examples\n",
    "print(\"Number of tokens: \", len(examples[0].text))\n",
    "print(\"\\n\")\n",
    "print(\"Print first 200 tokens: \",examples[0].text[:200])\n",
    "print(\"\\n\")\n",
    "print(\"Print last 10 tokens: \",examples[0].text[-10:])"
   ]
  },
  {
   "cell_type": "code",
   "execution_count": 8,
   "metadata": {
    "executionInfo": {
     "elapsed": 18,
     "status": "ok",
     "timestamp": 1653173293029,
     "user": {
      "displayName": "Paul Kang",
      "userId": "12965346162025885549"
     },
     "user_tz": 240
    },
    "id": "kjFcS5TfZPfj"
   },
   "outputs": [],
   "source": [
    "vocab = text_field.vocab"
   ]
  },
  {
   "cell_type": "code",
   "execution_count": 9,
   "metadata": {
    "colab": {
     "base_uri": "https://localhost:8080/"
    },
    "executionInfo": {
     "elapsed": 18,
     "status": "ok",
     "timestamp": 1653173293029,
     "user": {
      "displayName": "Paul Kang",
      "userId": "12965346162025885549"
     },
     "user_tz": 240
    },
    "id": "_mI2SJmKZ7Bv",
    "outputId": "7413c091-08f1-48c5-a08d-9f13d60fbd71"
   },
   "outputs": [
    {
     "name": "stdout",
     "output_type": "stream",
     "text": [
      "Vocabulary size:  6243\n",
      "10 most frequent words:  [('the', 11014), (',', 8985), ('.', 6941), ('to', 4867), ('of', 4833), ('and', 4128), ('a', 4090), ('in', 3603), ('that', 2402), ('is', 1911)]\n"
     ]
    }
   ],
   "source": [
    "\n",
    "print(\"Vocabulary size: \", len(vocab))\n",
    "print(\"10 most frequent words: \", vocab.freqs.most_common(10))"
   ]
  },
  {
   "cell_type": "code",
   "execution_count": 10,
   "metadata": {
    "colab": {
     "base_uri": "https://localhost:8080/"
    },
    "executionInfo": {
     "elapsed": 15,
     "status": "ok",
     "timestamp": 1653173293029,
     "user": {
      "displayName": "Paul Kang",
      "userId": "12965346162025885549"
     },
     "user_tz": 240
    },
    "id": "Q-f0z9dTaDDV",
    "outputId": "d4cff6a3-b6f2-40ca-d44d-ada43b80f6a2"
   },
   "outputs": [
    {
     "name": "stdout",
     "output_type": "stream",
     "text": [
      "First 10 words:  ['<unk>', '<pad>', 'the', ',', '.', 'to', 'of', 'and', 'a', 'in']\n",
      "First 200 words of text data:  ['killing', 'obama', 'administration', 'rules', ',', 'dismantling', 'obamacare', 'and', 'pushing', 'through', 'tax', 'reform', 'are', 'on', 'the', 'early', 'to', '-', 'do', 'list', '.']\n",
      "Index of the first word:  707\n"
     ]
    }
   ],
   "source": [
    "print(\"First 10 words: \", vocab.itos[0:10])\n",
    "print(\"First 200 words of text data: \", train.examples[0].text[:200])\n",
    "print(\"Index of the first word: \", vocab.stoi[train.examples[0].text[0]])"
   ]
  },
  {
   "cell_type": "markdown",
   "metadata": {
    "id": "gmK5iHd4Y-Kq"
   },
   "source": [
    "Switching test and train iterators"
   ]
  },
  {
   "cell_type": "code",
   "execution_count": 49,
   "metadata": {
    "executionInfo": {
     "elapsed": 138,
     "status": "ok",
     "timestamp": 1653173477025,
     "user": {
      "displayName": "Paul Kang",
      "userId": "12965346162025885549"
     },
     "user_tz": 240
    },
    "id": "IcE-QVnbY9f7"
   },
   "outputs": [],
   "source": [
    "hold = train_iter \n",
    "train_iter = test_iter\n",
    "test_iter = hold\n",
    "\n",
    "hold = valid_iter\n",
    "valid_iter = test_iter\n",
    "test_iter = hold"
   ]
  },
  {
   "cell_type": "markdown",
   "metadata": {
    "id": "9DP7sh3gw3m6"
   },
   "source": [
    "MLP"
   ]
  },
  {
   "cell_type": "markdown",
   "metadata": {
    "id": "7qvgvrabAlNx"
   },
   "source": [
    "Class definition"
   ]
  },
  {
   "cell_type": "code",
   "execution_count": 50,
   "metadata": {
    "executionInfo": {
     "elapsed": 136,
     "status": "ok",
     "timestamp": 1653173480652,
     "user": {
      "displayName": "Paul Kang",
      "userId": "12965346162025885549"
     },
     "user_tz": 240
    },
    "id": "IOVbiDw7aJVl"
   },
   "outputs": [],
   "source": [
    "class TextClass(nn.Module):\n",
    "  def __init__(self):\n",
    "    super(TextClass, self).__init__()\n",
    "    self.embed = nn.Embedding(len(vocab), embedding_dim=100)\n",
    "    self.embed.weight.data.copy_(vocab.vectors)\n",
    "    self.fc = nn.Linear(in_features=200*100, out_features=2)\n",
    "  def forward(self, input, lengths=None):\n",
    "    embed = self.embed(input)\n",
    "\n",
    "    if lengths is not None:\n",
    "      lengths = lengths.view(-1).tolist()\n",
    "      packed_emb = pack_padded_sequence(embed, lengths)\n",
    "\n",
    "    embed = embed.reshape(-1, 200*100)\n",
    "\n",
    "    fc = self.fc(embed)\n",
    "    out = fc\n",
    "\n",
    "    return out"
   ]
  },
  {
   "cell_type": "markdown",
   "metadata": {
    "id": "L4Zz7LwjAnlG"
   },
   "source": [
    "Data shape, for debugging purposes"
   ]
  },
  {
   "cell_type": "code",
   "execution_count": 51,
   "metadata": {
    "colab": {
     "base_uri": "https://localhost:8080/"
    },
    "executionInfo": {
     "elapsed": 9,
     "status": "ok",
     "timestamp": 1653173480792,
     "user": {
      "displayName": "Paul Kang",
      "userId": "12965346162025885549"
     },
     "user_tz": 240
    },
    "id": "sN7XD6Gz3R4C",
    "outputId": "12c18e76-8780-4c75-e410-0752360c7e3c"
   },
   "outputs": [
    {
     "name": "stdout",
     "output_type": "stream",
     "text": [
      "torch.Size([32, 200])\n",
      "torch.Size([32])\n",
      "torch.Size([32])\n"
     ]
    }
   ],
   "source": [
    "data = next(iter(train_iter))\n",
    "(x, x_len), y = data.titletext, data.label\n",
    "print(x.shape)\n",
    "print(x_len.shape)\n",
    "print(y.shape)"
   ]
  },
  {
   "cell_type": "code",
   "execution_count": 52,
   "metadata": {
    "colab": {
     "base_uri": "https://localhost:8080/"
    },
    "executionInfo": {
     "elapsed": 7,
     "status": "ok",
     "timestamp": 1653173480793,
     "user": {
      "displayName": "Paul Kang",
      "userId": "12965346162025885549"
     },
     "user_tz": 240
    },
    "id": "EfeK1NvgQ7Tt",
    "outputId": "c37da8ae-61b2-4195-d7fa-1e6e7926ba44"
   },
   "outputs": [
    {
     "name": "stdout",
     "output_type": "stream",
     "text": [
      "178\n",
      "16\n",
      "4\n"
     ]
    }
   ],
   "source": [
    "print(len(train_iter))\n",
    "print(len(valid_iter))\n",
    "print(len(test_iter))"
   ]
  },
  {
   "cell_type": "markdown",
   "metadata": {
    "id": "2E6nEwC1AqXj"
   },
   "source": [
    "Initialize model, optimizer, and loss criterion"
   ]
  },
  {
   "cell_type": "code",
   "execution_count": 53,
   "metadata": {
    "colab": {
     "base_uri": "https://localhost:8080/"
    },
    "executionInfo": {
     "elapsed": 5,
     "status": "ok",
     "timestamp": 1653173480793,
     "user": {
      "displayName": "Paul Kang",
      "userId": "12965346162025885549"
     },
     "user_tz": 240
    },
    "id": "V4yXd2vQcrHX",
    "outputId": "5c7afa78-9f31-41ba-d1a2-1914b3fe9a24"
   },
   "outputs": [
    {
     "name": "stdout",
     "output_type": "stream",
     "text": [
      "TextClass(\n",
      "  (embed): Embedding(6243, 100)\n",
      "  (fc): Linear(in_features=20000, out_features=2, bias=True)\n",
      ")\n"
     ]
    }
   ],
   "source": [
    "device = 'cpu'\n",
    "model = TextClass().to(device)\n",
    "optimizer = torch.optim.Adam(model.parameters())\n",
    "criterion = nn.CrossEntropyLoss()\n",
    "print(model)"
   ]
  },
  {
   "cell_type": "markdown",
   "metadata": {
    "id": "qnsuqZSpA2to"
   },
   "source": [
    "Test of embedding layer, for debugging purposes"
   ]
  },
  {
   "cell_type": "code",
   "execution_count": 54,
   "metadata": {
    "colab": {
     "base_uri": "https://localhost:8080/"
    },
    "executionInfo": {
     "elapsed": 135,
     "status": "ok",
     "timestamp": 1653173480925,
     "user": {
      "displayName": "Paul Kang",
      "userId": "12965346162025885549"
     },
     "user_tz": 240
    },
    "id": "MznfvCER4pVI",
    "outputId": "a1c40be5-4c80-4cad-c620-82edbe5a4653"
   },
   "outputs": [
    {
     "name": "stdout",
     "output_type": "stream",
     "text": [
      "torch.Size([2, 5, 100])\n",
      "torch.Size([2, 5, 100])\n"
     ]
    }
   ],
   "source": [
    "embedding = nn.Embedding(len(vocab), 100)\n",
    "input = torch.LongTensor([[1,2,3,4,5],[6,7,8,9,10]])\n",
    "print(embedding(input).shape)\n",
    "out = embedding(input)\n",
    "# out = embedding(input)[:, -1, :]\n",
    "print(out.shape)"
   ]
  },
  {
   "cell_type": "code",
   "execution_count": 55,
   "metadata": {
    "executionInfo": {
     "elapsed": 6,
     "status": "ok",
     "timestamp": 1653173480925,
     "user": {
      "displayName": "Paul Kang",
      "userId": "12965346162025885549"
     },
     "user_tz": 240
    },
    "id": "rmKiEKyLYPaM"
   },
   "outputs": [],
   "source": [
    "inp = out"
   ]
  },
  {
   "cell_type": "code",
   "execution_count": 56,
   "metadata": {
    "executionInfo": {
     "elapsed": 7,
     "status": "ok",
     "timestamp": 1653173480926,
     "user": {
      "displayName": "Paul Kang",
      "userId": "12965346162025885549"
     },
     "user_tz": 240
    },
    "id": "GT-8H4KZXcS-"
   },
   "outputs": [],
   "source": [
    "# rnn = nn.RNN(input_size=100, hidden_size=128, num_layers=1, batch_first=True)\n",
    "# h0 = torch.zeros(1, 2, 128)\n",
    "\n",
    "# out, _ = rnn(inp, h0)\n",
    "# print(out[:, -1, :].shape)\n",
    "# print(out.shape)"
   ]
  },
  {
   "cell_type": "code",
   "execution_count": 57,
   "metadata": {
    "colab": {
     "base_uri": "https://localhost:8080/"
    },
    "executionInfo": {
     "elapsed": 7,
     "status": "ok",
     "timestamp": 1653173480926,
     "user": {
      "displayName": "Paul Kang",
      "userId": "12965346162025885549"
     },
     "user_tz": 240
    },
    "id": "hTz9dRy2DGKq",
    "outputId": "46318958-4b9c-40f5-fc8c-d0f89a1c6a3d"
   },
   "outputs": [
    {
     "name": "stdout",
     "output_type": "stream",
     "text": [
      "tensor([1, 0, 1, 1, 0, 1, 0, 0, 1, 1, 0, 1, 1, 1, 0, 1, 1, 0, 1, 0, 1, 0, 0, 1,\n",
      "        1, 0, 0, 1, 0, 0, 1, 0])\n"
     ]
    }
   ],
   "source": [
    "data = next(iter(test_iter))\n",
    "(x, x_len), y = data.titletext, data.label\n",
    "print(model(x).argmax(dim=1))"
   ]
  },
  {
   "cell_type": "markdown",
   "metadata": {
    "id": "79WAq0jizqlo"
   },
   "source": [
    "Define train and evaluate functions"
   ]
  },
  {
   "cell_type": "code",
   "execution_count": 58,
   "metadata": {
    "executionInfo": {
     "elapsed": 5,
     "status": "ok",
     "timestamp": 1653173480926,
     "user": {
      "displayName": "Paul Kang",
      "userId": "12965346162025885549"
     },
     "user_tz": 240
    },
    "id": "mpSuy1KR3FJf"
   },
   "outputs": [],
   "source": [
    "def train_model(model, dataloader, device):\n",
    "  model.train()\n",
    "\n",
    "  losses = []\n",
    "  for batch_num, data in enumerate(dataloader):\n",
    "    (x, x_len), y = data.titletext, data.label\n",
    "\n",
    "    # if batch_num == 0:\n",
    "    #   print(f\"Batch num: {batch_num}\")\n",
    "    #   print(f\"Input data shape: {data}\")\n",
    "    # else:\n",
    "    #   pass\n",
    "\n",
    "    optimizer.zero_grad()\n",
    "    x = x.to(device)\n",
    "    y = y.to(device)\n",
    "\n",
    "    \n",
    "    output = model(x.reshape(-1,200))\n",
    "    #if batch_num == 0:\n",
    "    #  print(output)\n",
    "    \n",
    "    loss = criterion(output, y)\n",
    "    loss.backward()\n",
    "    losses.append(loss.item())\n",
    "\n",
    "    optimizer.step()\n",
    "    \n",
    "    if batch_num % 50 == 0:\n",
    "      print('\\tEpoch %d | Batch %d | Loss %6.2f' % (epoch, batch_num, loss.item()))\n",
    "\n",
    "  print('Epoch %d | Loss %6.2f' % (epoch, sum(losses)/len(losses)))\n",
    "  # plt.plot(losses)\n",
    "  return losses"
   ]
  },
  {
   "cell_type": "code",
   "execution_count": 59,
   "metadata": {
    "executionInfo": {
     "elapsed": 5,
     "status": "ok",
     "timestamp": 1653173480926,
     "user": {
      "displayName": "Paul Kang",
      "userId": "12965346162025885549"
     },
     "user_tz": 240
    },
    "id": "Hdt2I6a73mG0"
   },
   "outputs": [],
   "source": [
    "def evaluate_model(model, dataloader, device):\n",
    "  model.eval()\n",
    "  with torch.no_grad():\n",
    "      predictions = []\n",
    "      num = 1\n",
    "      for data in test_iter:\n",
    "          (x, x_len), y_targ = data.titletext, data.label\n",
    "\n",
    "          x = x.to(device)\n",
    "          y_targ = y_targ.to(device)\n",
    "\n",
    "          output = model(x).argmax(dim=1)\n",
    "          #for y in output:\n",
    "          #    writer.writerow({fieldnames[0]: image_id,fieldnames[1]: y.item()})\n",
    "          #    image_id += 1\n",
    "          \n",
    "          # if len(test_iter) % num == 5:\n",
    "          #   print(output)\n",
    "          #   print(y_targ)\n",
    "          #   print(output.shape)\n",
    "          #   print(torch.eq(output, y_targ))\n",
    "          #   #print(sum(torch.eq(output, y_targ)).item())\n",
    "\n",
    "          num += 1\n",
    "          eq = torch.eq(output, y_targ)\n",
    "          for element in eq:\n",
    "            predictions.append(element)\n",
    "      \n",
    "      accuracy = sum(predictions) / len(predictions)\n",
    "      print(f\"Length of predictions: {len(predictions)}\")\n",
    "      # print(f\"Accuracy : {accuracy}\")\n",
    "      return accuracy\n",
    "      "
   ]
  },
  {
   "cell_type": "code",
   "execution_count": 60,
   "metadata": {
    "colab": {
     "base_uri": "https://localhost:8080/"
    },
    "executionInfo": {
     "elapsed": 5,
     "status": "ok",
     "timestamp": 1653173480926,
     "user": {
      "displayName": "Paul Kang",
      "userId": "12965346162025885549"
     },
     "user_tz": 240
    },
    "id": "a9O854qh6JeJ",
    "outputId": "25fa8e3b-3dff-43b8-ec85-8cd690e550b3"
   },
   "outputs": [
    {
     "name": "stdout",
     "output_type": "stream",
     "text": [
      "[1, 2, 3, 4, 4, 5, 6, 7]\n"
     ]
    }
   ],
   "source": [
    "list1 = [1,2,3,4]\n",
    "list2 = [4,5,6,7]\n",
    "list3 = []\n",
    "list3.extend(list1)\n",
    "list3.extend(list2)\n",
    "print(list3)"
   ]
  },
  {
   "cell_type": "markdown",
   "metadata": {
    "id": "fc5GKgA6A-w_"
   },
   "source": [
    "Train and evaluate model, for accuracy on valid set"
   ]
  },
  {
   "cell_type": "code",
   "execution_count": 61,
   "metadata": {
    "colab": {
     "base_uri": "https://localhost:8080/",
     "height": 1000
    },
    "executionInfo": {
     "elapsed": 33859,
     "status": "ok",
     "timestamp": 1653173514782,
     "user": {
      "displayName": "Paul Kang",
      "userId": "12965346162025885549"
     },
     "user_tz": 240
    },
    "id": "kft99T804qsP",
    "outputId": "460efb6a-0cce-4acd-eb09-c53db5cae98b"
   },
   "outputs": [
    {
     "name": "stdout",
     "output_type": "stream",
     "text": [
      "\tEpoch 0 | Batch 0 | Loss   0.69\n",
      "\tEpoch 0 | Batch 50 | Loss   0.90\n",
      "\tEpoch 0 | Batch 100 | Loss   1.36\n",
      "\tEpoch 0 | Batch 150 | Loss   0.21\n",
      "Epoch 0 | Loss   0.66\n",
      "Length of predictions: 127\n",
      "Valid accuracy: 0.748031497001648\n",
      "\tEpoch 1 | Batch 0 | Loss   0.45\n",
      "\tEpoch 1 | Batch 50 | Loss   0.18\n",
      "\tEpoch 1 | Batch 100 | Loss   0.18\n",
      "\tEpoch 1 | Batch 150 | Loss   0.03\n",
      "Epoch 1 | Loss   0.14\n",
      "Length of predictions: 127\n",
      "Valid accuracy: 0.7007874250411987\n",
      "\tEpoch 2 | Batch 0 | Loss   0.73\n",
      "\tEpoch 2 | Batch 50 | Loss   0.12\n",
      "\tEpoch 2 | Batch 100 | Loss   0.04\n",
      "\tEpoch 2 | Batch 150 | Loss   0.07\n",
      "Epoch 2 | Loss   0.15\n",
      "Length of predictions: 127\n",
      "Valid accuracy: 0.8267716765403748\n",
      "\tEpoch 3 | Batch 0 | Loss   0.56\n",
      "\tEpoch 3 | Batch 50 | Loss   0.01\n",
      "\tEpoch 3 | Batch 100 | Loss   0.03\n",
      "\tEpoch 3 | Batch 150 | Loss   0.01\n",
      "Epoch 3 | Loss   0.30\n",
      "Length of predictions: 127\n",
      "Valid accuracy: 0.8897637724876404\n",
      "\tEpoch 4 | Batch 0 | Loss   0.05\n",
      "\tEpoch 4 | Batch 50 | Loss   0.03\n",
      "\tEpoch 4 | Batch 100 | Loss   0.00\n",
      "\tEpoch 4 | Batch 150 | Loss   0.00\n",
      "Epoch 4 | Loss   0.21\n",
      "Length of predictions: 127\n",
      "Valid accuracy: 0.8425197005271912\n",
      "\tEpoch 5 | Batch 0 | Loss   3.62\n",
      "\tEpoch 5 | Batch 50 | Loss   0.18\n",
      "\tEpoch 5 | Batch 100 | Loss   0.00\n",
      "\tEpoch 5 | Batch 150 | Loss   0.00\n",
      "Epoch 5 | Loss   0.08\n",
      "Length of predictions: 127\n",
      "Valid accuracy: 0.8897637724876404\n",
      "\tEpoch 6 | Batch 0 | Loss   0.05\n",
      "\tEpoch 6 | Batch 50 | Loss   0.00\n",
      "\tEpoch 6 | Batch 100 | Loss   0.00\n",
      "\tEpoch 6 | Batch 150 | Loss   0.00\n",
      "Epoch 6 | Loss   0.01\n",
      "Length of predictions: 127\n",
      "Valid accuracy: 0.8897637724876404\n",
      "\tEpoch 7 | Batch 0 | Loss   0.01\n",
      "\tEpoch 7 | Batch 50 | Loss   0.00\n",
      "\tEpoch 7 | Batch 100 | Loss   0.00\n",
      "\tEpoch 7 | Batch 150 | Loss   0.00\n",
      "Epoch 7 | Loss   0.00\n",
      "Length of predictions: 127\n",
      "Valid accuracy: 0.8897637724876404\n",
      "\tEpoch 8 | Batch 0 | Loss   0.01\n",
      "\tEpoch 8 | Batch 50 | Loss   0.00\n",
      "\tEpoch 8 | Batch 100 | Loss   0.00\n",
      "\tEpoch 8 | Batch 150 | Loss   0.00\n",
      "Epoch 8 | Loss   0.00\n",
      "Length of predictions: 127\n",
      "Valid accuracy: 0.8897637724876404\n",
      "\tEpoch 9 | Batch 0 | Loss   0.01\n",
      "\tEpoch 9 | Batch 50 | Loss   0.00\n",
      "\tEpoch 9 | Batch 100 | Loss   0.00\n",
      "\tEpoch 9 | Batch 150 | Loss   0.00\n",
      "Epoch 9 | Loss   0.00\n",
      "Length of predictions: 127\n",
      "Valid accuracy: 0.8897637724876404\n"
     ]
    },
    {
     "data": {
      "text/plain": [
       "[<matplotlib.lines.Line2D at 0x7f02a8930c10>]"
      ]
     },
     "execution_count": 61,
     "metadata": {},
     "output_type": "execute_result"
    },
    {
     "data": {
      "image/png": "[encoded data removed]",
      "text/plain": [
       "<Figure size 432x288 with 1 Axes>"
      ]
     },
     "metadata": {
      "needs_background": "light"
     },
     "output_type": "display_data"
    },
    {
     "data": {
      "image/png": "[encoded data removed]",
      "text/plain": [
       "<Figure size 432x288 with 1 Axes>"
      ]
     },
     "metadata": {
      "needs_background": "light"
     },
     "output_type": "display_data"
    }
   ],
   "source": [
    "epochs = 10\n",
    "tot_losses = []\n",
    "accuracies = []\n",
    "\n",
    "for epoch in range(epochs):\n",
    "  losses = train_model(model, train_iter, device)\n",
    "  tot_losses.extend(losses)\n",
    "  accuracy = evaluate_model(model, valid_iter, device)\n",
    "  accuracies.append(accuracy)\n",
    "  print(f\"Valid accuracy: {accuracy}\")\n",
    "\n",
    "plt.figure()\n",
    "plt.plot(tot_losses)\n",
    "plt.figure()\n",
    "plt.plot(accuracies)"
   ]
  },
  {
   "cell_type": "markdown",
   "metadata": {
    "id": "Oww6nud_76Dw"
   },
   "source": [
    "Model accuracy on test set"
   ]
  },
  {
   "cell_type": "code",
   "execution_count": 62,
   "metadata": {
    "colab": {
     "base_uri": "https://localhost:8080/"
    },
    "executionInfo": {
     "elapsed": 21,
     "status": "ok",
     "timestamp": 1653173514783,
     "user": {
      "displayName": "Paul Kang",
      "userId": "12965346162025885549"
     },
     "user_tz": 240
    },
    "id": "WfKN6JQM7_Xo",
    "outputId": "b0559ea2-7255-4cb3-8807-352c3fb4b789"
   },
   "outputs": [
    {
     "name": "stdout",
     "output_type": "stream",
     "text": [
      "Length of predictions: 127\n",
      "Test accuracy: 0.8897637724876404\n"
     ]
    }
   ],
   "source": [
    "test_acc = evaluate_model(model, test_iter, device)\n",
    "print(f\"Test accuracy: {test_acc}\")"
   ]
  },
  {
   "cell_type": "code",
   "execution_count": 63,
   "metadata": {
    "colab": {
     "base_uri": "https://localhost:8080/"
    },
    "executionInfo": {
     "elapsed": 15,
     "status": "ok",
     "timestamp": 1653173514783,
     "user": {
      "displayName": "Paul Kang",
      "userId": "12965346162025885549"
     },
     "user_tz": 240
    },
    "id": "55CM80OMC9jc",
    "outputId": "53f159fd-1f52-4fca-8998-ca5dd4fbda2d"
   },
   "outputs": [
    {
     "name": "stdout",
     "output_type": "stream",
     "text": [
      "178\n",
      "16\n",
      "4\n"
     ]
    }
   ],
   "source": [
    "print(len(train_iter))\n",
    "print(len(valid_iter))\n",
    "print(len(test_iter))"
   ]
  },
  {
   "cell_type": "markdown",
   "metadata": {
    "id": "TIugL3bMw5hg"
   },
   "source": [
    "CNN"
   ]
  },
  {
   "cell_type": "code",
   "execution_count": 64,
   "metadata": {
    "executionInfo": {
     "elapsed": 11,
     "status": "ok",
     "timestamp": 1653173514783,
     "user": {
      "displayName": "Paul Kang",
      "userId": "12965346162025885549"
     },
     "user_tz": 240
    },
    "id": "4w_3XYG9w6Do"
   },
   "outputs": [],
   "source": [
    "class TextClassCNN(nn.Module):\n",
    "  def __init__(self):\n",
    "    super(TextClassCNN, self).__init__()\n",
    "    self.embed = nn.Embedding(len(vocab), embedding_dim=100)\n",
    "    self.embed.weight.data.copy_(vocab.vectors)\n",
    "    self.seq = nn.Sequential(\n",
    "        nn.Conv2d(in_channels=100, out_channels=64, kernel_size=(3,1), padding=(1,0)),\n",
    "        nn.ReLU(),\n",
    "        nn.Conv2d(in_channels=64, out_channels=32, kernel_size=(3,1), padding=(1,0)),\n",
    "        nn.ReLU(),\n",
    "        nn.Conv2d(in_channels=32, out_channels=16, kernel_size=(3,1), padding=(1,0)),\n",
    "        nn.ReLU()\n",
    "    )\n",
    "    self.fc = nn.Linear(in_features=16*200, out_features=2)\n",
    "  def forward(self, input, lengths=None):\n",
    "    embed = self.embed(input)\n",
    "\n",
    "    if lengths is not None:\n",
    "      lengths = lengths.view(-1).tolist()\n",
    "      packed_emb = pack_padded_sequence(embed, lengths)\n",
    "\n",
    "    embed = embed.reshape(-1, 100, 200, 1)\n",
    "\n",
    "    seq = self.seq(embed)\n",
    "    res = seq.reshape(-1, 16*200)\n",
    "\n",
    "    fc = self.fc(res)\n",
    "    out = fc\n",
    "\n",
    "    return out"
   ]
  },
  {
   "cell_type": "code",
   "execution_count": 65,
   "metadata": {
    "colab": {
     "base_uri": "https://localhost:8080/"
    },
    "executionInfo": {
     "elapsed": 11,
     "status": "ok",
     "timestamp": 1653173514784,
     "user": {
      "displayName": "Paul Kang",
      "userId": "12965346162025885549"
     },
     "user_tz": 240
    },
    "id": "AIK-aiDry_Yy",
    "outputId": "06b543a2-5adb-4ab8-e0da-b4647e944f94"
   },
   "outputs": [
    {
     "name": "stdout",
     "output_type": "stream",
     "text": [
      "torch.Size([32, 200])\n",
      "torch.Size([32])\n",
      "torch.Size([32])\n"
     ]
    }
   ],
   "source": [
    "data = next(iter(train_iter))\n",
    "(x, x_len), y = data.titletext, data.label\n",
    "print(x.shape)\n",
    "print(x_len.shape)\n",
    "print(y.shape)"
   ]
  },
  {
   "cell_type": "code",
   "execution_count": 68,
   "metadata": {
    "colab": {
     "base_uri": "https://localhost:8080/"
    },
    "executionInfo": {
     "elapsed": 125,
     "status": "ok",
     "timestamp": 1653173567429,
     "user": {
      "displayName": "Paul Kang",
      "userId": "12965346162025885549"
     },
     "user_tz": 240
    },
    "id": "_DJmVKqJzFZc",
    "outputId": "31e21de6-d8c4-4105-e17f-cb7ece4d5602"
   },
   "outputs": [
    {
     "name": "stdout",
     "output_type": "stream",
     "text": [
      "TextClassCNN(\n",
      "  (embed): Embedding(6243, 100)\n",
      "  (seq): Sequential(\n",
      "    (0): Conv2d(100, 64, kernel_size=(3, 1), stride=(1, 1), padding=(1, 0))\n",
      "    (1): ReLU()\n",
      "    (2): Conv2d(64, 32, kernel_size=(3, 1), stride=(1, 1), padding=(1, 0))\n",
      "    (3): ReLU()\n",
      "    (4): Conv2d(32, 16, kernel_size=(3, 1), stride=(1, 1), padding=(1, 0))\n",
      "    (5): ReLU()\n",
      "  )\n",
      "  (fc): Linear(in_features=3200, out_features=2, bias=True)\n",
      ")\n"
     ]
    }
   ],
   "source": [
    "device = 'cpu'\n",
    "cnn_model = TextClassCNN().to(device)\n",
    "optimizer = torch.optim.Adam(cnn_model.parameters())\n",
    "criterion = nn.CrossEntropyLoss()\n",
    "print(cnn_model)"
   ]
  },
  {
   "cell_type": "code",
   "execution_count": 69,
   "metadata": {
    "colab": {
     "base_uri": "https://localhost:8080/",
     "height": 1000
    },
    "executionInfo": {
     "elapsed": 189041,
     "status": "ok",
     "timestamp": 1653173756599,
     "user": {
      "displayName": "Paul Kang",
      "userId": "12965346162025885549"
     },
     "user_tz": 240
    },
    "id": "7Wq46Y5H8PMO",
    "outputId": "fa1f0f4e-2d5f-49a7-9c5d-eaac90d134f8"
   },
   "outputs": [
    {
     "name": "stdout",
     "output_type": "stream",
     "text": [
      "\tEpoch 0 | Batch 0 | Loss   0.69\n",
      "\tEpoch 0 | Batch 50 | Loss   0.71\n",
      "\tEpoch 0 | Batch 100 | Loss   0.69\n",
      "\tEpoch 0 | Batch 150 | Loss   0.60\n",
      "Epoch 0 | Loss   0.69\n",
      "Length of predictions: 127\n",
      "Validation accuracy: 0.4566929042339325\n",
      "\tEpoch 1 | Batch 0 | Loss   0.70\n",
      "\tEpoch 1 | Batch 50 | Loss   0.66\n",
      "\tEpoch 1 | Batch 100 | Loss   0.67\n",
      "\tEpoch 1 | Batch 150 | Loss   0.16\n",
      "Epoch 1 | Loss   0.48\n",
      "Length of predictions: 127\n",
      "Validation accuracy: 0.8425197005271912\n",
      "\tEpoch 2 | Batch 0 | Loss   0.48\n",
      "\tEpoch 2 | Batch 50 | Loss   0.17\n",
      "\tEpoch 2 | Batch 100 | Loss   0.19\n",
      "\tEpoch 2 | Batch 150 | Loss   0.06\n",
      "Epoch 2 | Loss   0.20\n",
      "Length of predictions: 127\n",
      "Validation accuracy: 0.874015748500824\n",
      "\tEpoch 3 | Batch 0 | Loss   0.22\n",
      "\tEpoch 3 | Batch 50 | Loss   0.08\n",
      "\tEpoch 3 | Batch 100 | Loss   0.06\n",
      "\tEpoch 3 | Batch 150 | Loss   0.02\n",
      "Epoch 3 | Loss   0.10\n",
      "Length of predictions: 127\n",
      "Validation accuracy: 0.913385808467865\n",
      "\tEpoch 4 | Batch 0 | Loss   0.12\n",
      "\tEpoch 4 | Batch 50 | Loss   0.02\n",
      "\tEpoch 4 | Batch 100 | Loss   0.01\n",
      "\tEpoch 4 | Batch 150 | Loss   0.00\n",
      "Epoch 4 | Loss   0.04\n",
      "Length of predictions: 127\n",
      "Validation accuracy: 0.8976377844810486\n",
      "\tEpoch 5 | Batch 0 | Loss   0.08\n",
      "\tEpoch 5 | Batch 50 | Loss   0.02\n",
      "\tEpoch 5 | Batch 100 | Loss   0.01\n",
      "\tEpoch 5 | Batch 150 | Loss   0.00\n",
      "Epoch 5 | Loss   0.01\n",
      "Length of predictions: 127\n",
      "Validation accuracy: 0.8976377844810486\n",
      "\tEpoch 6 | Batch 0 | Loss   0.18\n",
      "\tEpoch 6 | Batch 50 | Loss   0.00\n",
      "\tEpoch 6 | Batch 100 | Loss   0.00\n",
      "\tEpoch 6 | Batch 150 | Loss   0.00\n",
      "Epoch 6 | Loss   0.01\n",
      "Length of predictions: 127\n",
      "Validation accuracy: 0.913385808467865\n",
      "\tEpoch 7 | Batch 0 | Loss   0.11\n",
      "\tEpoch 7 | Batch 50 | Loss   0.01\n",
      "\tEpoch 7 | Batch 100 | Loss   0.00\n",
      "\tEpoch 7 | Batch 150 | Loss   0.00\n",
      "Epoch 7 | Loss   0.00\n",
      "Length of predictions: 127\n",
      "Validation accuracy: 0.913385808467865\n",
      "\tEpoch 8 | Batch 0 | Loss   0.00\n",
      "\tEpoch 8 | Batch 50 | Loss   0.00\n",
      "\tEpoch 8 | Batch 100 | Loss   0.00\n",
      "\tEpoch 8 | Batch 150 | Loss   0.00\n",
      "Epoch 8 | Loss   0.00\n",
      "Length of predictions: 127\n",
      "Validation accuracy: 0.913385808467865\n",
      "\tEpoch 9 | Batch 0 | Loss   0.00\n",
      "\tEpoch 9 | Batch 50 | Loss   0.00\n",
      "\tEpoch 9 | Batch 100 | Loss   0.00\n",
      "\tEpoch 9 | Batch 150 | Loss   0.00\n",
      "Epoch 9 | Loss   0.00\n",
      "Length of predictions: 127\n",
      "Validation accuracy: 0.913385808467865\n"
     ]
    },
    {
     "data": {
      "text/plain": [
       "[<matplotlib.lines.Line2D at 0x7f02a8305e50>]"
      ]
     },
     "execution_count": 69,
     "metadata": {},
     "output_type": "execute_result"
    },
    {
     "data": {
      "image/png": "[encoded data removed]",
      "text/plain": [
       "<Figure size 432x288 with 1 Axes>"
      ]
     },
     "metadata": {
      "needs_background": "light"
     },
     "output_type": "display_data"
    },
    {
     "data": {
      "image/png": "[encoded data removed]",
      "text/plain": [
       "<Figure size 432x288 with 1 Axes>"
      ]
     },
     "metadata": {
      "needs_background": "light"
     },
     "output_type": "display_data"
    }
   ],
   "source": [
    "epochs = 10\n",
    "tot_losses = []\n",
    "accuracies = []\n",
    "\n",
    "for epoch in range(epochs):\n",
    "  losses = train_model(cnn_model, train_iter, device)\n",
    "  tot_losses.extend(losses)\n",
    "  accuracy = evaluate_model(cnn_model, valid_iter, device)\n",
    "  accuracies.append(accuracy)\n",
    "  print(f\"Validation accuracy: {accuracy}\")\n",
    "\n",
    "plt.figure()\n",
    "plt.plot(tot_losses)\n",
    "plt.figure()\n",
    "plt.plot(accuracies)"
   ]
  },
  {
   "cell_type": "markdown",
   "metadata": {
    "id": "1YjAVO2q9U_D"
   },
   "source": [
    "Model accuracy on test set"
   ]
  },
  {
   "cell_type": "code",
   "execution_count": 70,
   "metadata": {
    "colab": {
     "base_uri": "https://localhost:8080/"
    },
    "executionInfo": {
     "elapsed": 7,
     "status": "ok",
     "timestamp": 1653173756778,
     "user": {
      "displayName": "Paul Kang",
      "userId": "12965346162025885549"
     },
     "user_tz": 240
    },
    "id": "yyW9qQ129XUc",
    "outputId": "685b7d42-17eb-4f3f-b173-f20b46fff5a4"
   },
   "outputs": [
    {
     "name": "stdout",
     "output_type": "stream",
     "text": [
      "Length of predictions: 127\n",
      "Test accuracy: 0.913385808467865\n"
     ]
    }
   ],
   "source": [
    "test_acc = evaluate_model(cnn_model, test_iter, device)\n",
    "print(f\"Test accuracy: {test_acc}\")"
   ]
  },
  {
   "cell_type": "code",
   "execution_count": 71,
   "metadata": {
    "colab": {
     "base_uri": "https://localhost:8080/"
    },
    "executionInfo": {
     "elapsed": 168,
     "status": "ok",
     "timestamp": 1653173756941,
     "user": {
      "displayName": "Paul Kang",
      "userId": "12965346162025885549"
     },
     "user_tz": 240
    },
    "id": "K1A4W5fPAE69",
    "outputId": "e7f28613-194a-4aa3-c123-f7b4f0108258"
   },
   "outputs": [
    {
     "name": "stdout",
     "output_type": "stream",
     "text": [
      "Length of predictions: 127\n"
     ]
    },
    {
     "data": {
      "text/plain": [
       "tensor(0.9134)"
      ]
     },
     "execution_count": 71,
     "metadata": {},
     "output_type": "execute_result"
    }
   ],
   "source": [
    "evaluate_model(cnn_model, train_iter, device)"
   ]
  },
  {
   "cell_type": "markdown",
   "metadata": {
    "id": "wNb9NZwY_E58"
   },
   "source": [
    "RNN"
   ]
  },
  {
   "cell_type": "code",
   "execution_count": 71,
   "metadata": {
    "executionInfo": {
     "elapsed": 6,
     "status": "ok",
     "timestamp": 1653173756942,
     "user": {
      "displayName": "Paul Kang",
      "userId": "12965346162025885549"
     },
     "user_tz": 240
    },
    "id": "uah8hlE3N8HM"
   },
   "outputs": [],
   "source": []
  },
  {
   "cell_type": "code",
   "execution_count": 72,
   "metadata": {
    "executionInfo": {
     "elapsed": 5,
     "status": "ok",
     "timestamp": 1653173756942,
     "user": {
      "displayName": "Paul Kang",
      "userId": "12965346162025885549"
     },
     "user_tz": 240
    },
    "id": "SM5a5MsI_YmC"
   },
   "outputs": [],
   "source": [
    "input_size = 100\n",
    "sequence_length = 200\n",
    "hidden_size = 128\n",
    "num_layers = 1\n",
    "num_classes = 2"
   ]
  },
  {
   "cell_type": "code",
   "execution_count": 73,
   "metadata": {
    "executionInfo": {
     "elapsed": 143,
     "status": "ok",
     "timestamp": 1653173757081,
     "user": {
      "displayName": "Paul Kang",
      "userId": "12965346162025885549"
     },
     "user_tz": 240
    },
    "id": "fZbjPCKf33lo"
   },
   "outputs": [],
   "source": [
    "class RNN(nn.Module):\n",
    "  def __init__(self, input_size, hidden_size, num_layers, num_classes):\n",
    "    super(RNN, self).__init__()\n",
    "    self.input_size = input_size\n",
    "    self.sequence_length = 200\n",
    "    self.hidden_size = hidden_size\n",
    "    self.num_layers = num_layers\n",
    "    self.num_classes = num_classes\n",
    "    self.samp_num = 0\n",
    "\n",
    "    self.embed = nn.Embedding(len(vocab), embedding_dim=100)\n",
    "    self.embed.weight.data.copy_(vocab.vectors)\n",
    "\n",
    "    self.rnn = nn.RNN(self.input_size, self.hidden_size, self.num_layers, batch_first = True)  \n",
    "    self.linear = nn.Linear(self.hidden_size, self.num_classes)\n",
    "  def forward(self, x):\n",
    "    h0 = torch.zeros(self.num_layers, x.size(0), self.hidden_size).to(device)\n",
    "    # c0 = torch.zeros(self.num_layers, x.size(0), self.hidden_size).to(device)\n",
    "\n",
    "    embed = self.embed(x)\n",
    "    embed = embed.reshape(-1, 200, 100)\n",
    "\n",
    "    out, _ = self.rnn(embed, h0)\n",
    "    # if self.samp_num % 1000 == 0:\n",
    "    #   print(f\"RNN output: {out.shape}\")\n",
    "    out = out[:, -1, :]\n",
    "    # if self.samp_num % 1000 == 0:\n",
    "    #   print(f\"Reshaped RNN output: {out.shape}\")\n",
    "\n",
    "    # self.samp_num += 1\n",
    "\n",
    "    out = self.linear(out)\n",
    "    return out"
   ]
  },
  {
   "cell_type": "code",
   "execution_count": 74,
   "metadata": {
    "executionInfo": {
     "elapsed": 6,
     "status": "ok",
     "timestamp": 1653173757081,
     "user": {
      "displayName": "Paul Kang",
      "userId": "12965346162025885549"
     },
     "user_tz": 240
    },
    "id": "GnbBJeRdVI-H"
   },
   "outputs": [],
   "source": [
    "#  test = nn.RNN(input_size, hidden_size, num_layers, batch_first=True)\n",
    "#  x, y = next(train(iter))\n",
    "#  x = x[1][0]\n",
    "#  y = x\n",
    "#\n",
    "#  h0 = torch.zeros(num_layers, x.size(0), hidden_size)"
   ]
  },
  {
   "cell_type": "code",
   "execution_count": 75,
   "metadata": {
    "executionInfo": {
     "elapsed": 6,
     "status": "ok",
     "timestamp": 1653173757082,
     "user": {
      "displayName": "Paul Kang",
      "userId": "12965346162025885549"
     },
     "user_tz": 240
    },
    "id": "NDLDsHlX_dc0"
   },
   "outputs": [],
   "source": [
    "device = 'cpu'\n",
    "rnn_model = RNN(input_size, hidden_size, num_layers, num_classes).to(device)\n",
    "optimizer = torch.optim.Adam(rnn_model.parameters(), lr=1e-3)\n",
    "criterion = nn.CrossEntropyLoss()\n",
    "scheduler = torch.optim.lr_scheduler.ReduceLROnPlateau(optimizer, 'min', patience = 5)"
   ]
  },
  {
   "cell_type": "code",
   "execution_count": 76,
   "metadata": {
    "colab": {
     "base_uri": "https://localhost:8080/"
    },
    "executionInfo": {
     "elapsed": 5,
     "status": "ok",
     "timestamp": 1653173757082,
     "user": {
      "displayName": "Paul Kang",
      "userId": "12965346162025885549"
     },
     "user_tz": 240
    },
    "id": "5FiSSczfbJ8h",
    "outputId": "0b2023ac-4e2d-4a29-9756-a0e78c7e8862"
   },
   "outputs": [
    {
     "name": "stdout",
     "output_type": "stream",
     "text": [
      "RNN(\n",
      "  (embed): Embedding(6243, 100)\n",
      "  (rnn): RNN(100, 128, batch_first=True)\n",
      "  (linear): Linear(in_features=128, out_features=2, bias=True)\n",
      ")\n"
     ]
    }
   ],
   "source": [
    "print(rnn_model)"
   ]
  },
  {
   "cell_type": "code",
   "execution_count": 77,
   "metadata": {
    "colab": {
     "base_uri": "https://localhost:8080/",
     "height": 1000
    },
    "executionInfo": {
     "elapsed": 171009,
     "status": "ok",
     "timestamp": 1653173928087,
     "user": {
      "displayName": "Paul Kang",
      "userId": "12965346162025885549"
     },
     "user_tz": 240
    },
    "id": "MpFfPniCAqis",
    "outputId": "f12f9ecf-85a7-4bc4-f145-6f93a235bf98"
   },
   "outputs": [
    {
     "name": "stdout",
     "output_type": "stream",
     "text": [
      "RNN output: torch.Size([32, 200, 128])\n",
      "Reshaped RNN output: torch.Size([32, 128])\n",
      "\tEpoch 0 | Batch 0 | Loss   0.70\n",
      "\tEpoch 0 | Batch 50 | Loss   0.68\n",
      "\tEpoch 0 | Batch 100 | Loss   0.89\n",
      "\tEpoch 0 | Batch 150 | Loss   0.56\n",
      "Epoch 0 | Loss   0.69\n",
      "Length of predictions: 127\n",
      "Validation accuracy: 0.6377952694892883\n",
      "\tEpoch 1 | Batch 0 | Loss   0.82\n",
      "\tEpoch 1 | Batch 50 | Loss   0.72\n",
      "\tEpoch 1 | Batch 100 | Loss   0.83\n",
      "\tEpoch 1 | Batch 150 | Loss   0.51\n",
      "Epoch 1 | Loss   0.66\n",
      "Length of predictions: 127\n",
      "Validation accuracy: 0.5826771855354309\n",
      "\tEpoch 2 | Batch 0 | Loss   0.74\n",
      "\tEpoch 2 | Batch 50 | Loss   0.63\n",
      "\tEpoch 2 | Batch 100 | Loss   0.73\n",
      "\tEpoch 2 | Batch 150 | Loss   0.45\n",
      "Epoch 2 | Loss   0.61\n",
      "Length of predictions: 127\n",
      "Validation accuracy: 0.6062992215156555\n",
      "\tEpoch 3 | Batch 0 | Loss   0.69\n",
      "\tEpoch 3 | Batch 50 | Loss   0.61\n",
      "\tEpoch 3 | Batch 100 | Loss   0.69\n",
      "\tEpoch 3 | Batch 150 | Loss   0.39\n",
      "Epoch 3 | Loss   0.52\n",
      "Length of predictions: 127\n",
      "Validation accuracy: 0.6141732335090637\n",
      "\tEpoch 4 | Batch 0 | Loss   0.94\n",
      "\tEpoch 4 | Batch 50 | Loss   0.53\n",
      "\tEpoch 4 | Batch 100 | Loss   0.95\n",
      "\tEpoch 4 | Batch 150 | Loss   0.38\n",
      "Epoch 4 | Loss   0.46\n",
      "Length of predictions: 127\n",
      "Validation accuracy: 0.5905511975288391\n",
      "\tEpoch 5 | Batch 0 | Loss   0.81\n",
      "\tEpoch 5 | Batch 50 | Loss   0.34\n",
      "RNN output: torch.Size([32, 200, 128])\n",
      "Reshaped RNN output: torch.Size([32, 128])\n",
      "\tEpoch 5 | Batch 100 | Loss   0.66\n",
      "\tEpoch 5 | Batch 150 | Loss   0.38\n",
      "Epoch 5 | Loss   0.38\n",
      "Length of predictions: 127\n",
      "Validation accuracy: 0.6771653294563293\n",
      "\tEpoch 6 | Batch 0 | Loss   0.70\n",
      "\tEpoch 6 | Batch 50 | Loss   0.28\n",
      "\tEpoch 6 | Batch 100 | Loss   0.47\n",
      "\tEpoch 6 | Batch 150 | Loss   0.37\n",
      "Epoch 6 | Loss   0.29\n",
      "Length of predictions: 127\n",
      "Validation accuracy: 0.5984252095222473\n",
      "\tEpoch 7 | Batch 0 | Loss   1.13\n",
      "\tEpoch 7 | Batch 50 | Loss   0.20\n",
      "\tEpoch 7 | Batch 100 | Loss   0.37\n",
      "\tEpoch 7 | Batch 150 | Loss   0.34\n",
      "Epoch 7 | Loss   0.29\n",
      "Length of predictions: 127\n",
      "Validation accuracy: 0.5354330539703369\n",
      "\tEpoch 8 | Batch 0 | Loss   0.78\n",
      "\tEpoch 8 | Batch 50 | Loss   0.15\n",
      "\tEpoch 8 | Batch 100 | Loss   0.44\n",
      "\tEpoch 8 | Batch 150 | Loss   0.16\n",
      "Epoch 8 | Loss   0.23\n",
      "Length of predictions: 127\n",
      "Validation accuracy: 0.5511810779571533\n",
      "\tEpoch 9 | Batch 0 | Loss   0.76\n",
      "\tEpoch 9 | Batch 50 | Loss   0.13\n",
      "\tEpoch 9 | Batch 100 | Loss   0.31\n",
      "\tEpoch 9 | Batch 150 | Loss   0.10\n",
      "Epoch 9 | Loss   0.20\n",
      "Length of predictions: 127\n",
      "Validation accuracy: 0.5275590419769287\n"
     ]
    },
    {
     "data": {
      "text/plain": [
       "[<matplotlib.lines.Line2D at 0x7f02a8759350>]"
      ]
     },
     "execution_count": 77,
     "metadata": {},
     "output_type": "execute_result"
    },
    {
     "data": {
      "image/png": "[encoded data removed]",
      "text/plain": [
       "<Figure size 432x288 with 1 Axes>"
      ]
     },
     "metadata": {
      "needs_background": "light"
     },
     "output_type": "display_data"
    },
    {
     "data": {
      "image/png": "[encoded data removed]",
      "text/plain": [
       "<Figure size 432x288 with 1 Axes>"
      ]
     },
     "metadata": {
      "needs_background": "light"
     },
     "output_type": "display_data"
    }
   ],
   "source": [
    "epochs = 10\n",
    "tot_losses = []\n",
    "accuracies = []\n",
    "\n",
    "for epoch in range(epochs):\n",
    "  losses = train_model(rnn_model, train_iter, device)\n",
    "  tot_losses.extend(losses)\n",
    "  accuracy = evaluate_model(rnn_model, valid_iter, device)\n",
    "  accuracies.append(accuracy)\n",
    "  print(f\"Validation accuracy: {accuracy}\")\n",
    "\n",
    "plt.figure()\n",
    "plt.plot(tot_losses)\n",
    "plt.figure()\n",
    "plt.plot(accuracies)"
   ]
  },
  {
   "cell_type": "markdown",
   "metadata": {
    "id": "Sj38JUIcF1bN"
   },
   "source": [
    "Model accuracy on test set"
   ]
  },
  {
   "cell_type": "code",
   "execution_count": 78,
   "metadata": {
    "colab": {
     "base_uri": "https://localhost:8080/"
    },
    "executionInfo": {
     "elapsed": 11,
     "status": "ok",
     "timestamp": 1653173928087,
     "user": {
      "displayName": "Paul Kang",
      "userId": "12965346162025885549"
     },
     "user_tz": 240
    },
    "id": "hYKcM4WFF0bC",
    "outputId": "860b4631-c7ab-434f-e6d1-60a5411e5fad"
   },
   "outputs": [
    {
     "name": "stdout",
     "output_type": "stream",
     "text": [
      "Length of predictions: 127\n",
      "Test accuracy: 0.5275590419769287\n"
     ]
    }
   ],
   "source": [
    "test_acc = evaluate_model(rnn_model, test_iter, device)\n",
    "print(f\"Test accuracy: {test_acc}\")"
   ]
  },
  {
   "cell_type": "code",
   "execution_count": 79,
   "metadata": {
    "executionInfo": {
     "elapsed": 7,
     "status": "ok",
     "timestamp": 1653173928087,
     "user": {
      "displayName": "Paul Kang",
      "userId": "12965346162025885549"
     },
     "user_tz": 240
    },
    "id": "IML1LWWC_f8g"
   },
   "outputs": [],
   "source": [
    "# batch_num, input_data = next(enumerate(train_iter))\n",
    "# x, y_targ = input_data\n",
    "# print(batch_num)\n",
    "# print(len(x))\n",
    "# print(x[0])\n",
    "# print(len(x[1]))\n",
    "# print(len(x[2]))\n",
    "# print(len(x[3]))\n",
    "# print(x[1][0].shape)\n",
    "# print(x[1][1])\n",
    "# print(x[2][0].shape)\n",
    "# print(x[2][1])\n",
    "# print(x[3][0].shape)\n",
    "# print(x[3][1])\n",
    "# print(x[3][0].size(0))"
   ]
  },
  {
   "cell_type": "code",
   "execution_count": 80,
   "metadata": {
    "executionInfo": {
     "elapsed": 8,
     "status": "ok",
     "timestamp": 1653173928088,
     "user": {
      "displayName": "Paul Kang",
      "userId": "12965346162025885549"
     },
     "user_tz": 240
    },
    "id": "Ot4AzspQVdtd"
   },
   "outputs": [],
   "source": [
    "# epochs = 20\n",
    "# batch_size = 32\n",
    "\n",
    "# for epoch in range(epochs):\n",
    "#   accuracies = []\n",
    "#   rnn_train(rnn_model, train_iter, device)\n",
    "#   accuracy = rnn_evaluate(rnn_model, train_iter, device)\n",
    "#   accuracies.append(accuracy)\n",
    "#   print(f\"Train accuracy: {accuracy}\")"
   ]
  },
  {
   "cell_type": "code",
   "execution_count": 80,
   "metadata": {
    "executionInfo": {
     "elapsed": 7,
     "status": "ok",
     "timestamp": 1653173928088,
     "user": {
      "displayName": "Paul Kang",
      "userId": "12965346162025885549"
     },
     "user_tz": 240
    },
    "id": "Gw1Z5RjXbz1J"
   },
   "outputs": [],
   "source": []
  }
 ],
 "metadata": {
  "colab": {
   "authorship_tag": "ABX9TyPXSGSuryG4yNSiCa+4s25b",
   "collapsed_sections": [],
   "name": "text_classification.ipynb",
   "provenance": []
  },
  "kernelspec": {
   "display_name": "Python 3 (ipykernel)",
   "language": "python",
   "name": "python3"
  },
  "language_info": {
   "codemirror_mode": {
    "name": "ipython",
    "version": 3
   },
   "file_extension": ".py",
   "mimetype": "text/x-python",
   "name": "python",
   "nbconvert_exporter": "python",
   "pygments_lexer": "ipython3",
   "version": "3.9.12"
  }
 },
 "nbformat": 4,
 "nbformat_minor": 1
}
