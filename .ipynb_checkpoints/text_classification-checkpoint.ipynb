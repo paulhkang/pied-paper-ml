{
 "cells": [
  {
   "cell_type": "markdown",
   "metadata": {
    "id": "_tUDem9IAFqO"
   },
   "source": [
    "Mount to Google Drive directory"
   ]
  },
  {
   "cell_type": "code",
   "execution_count": 2,
   "metadata": {
    "colab": {
     "base_uri": "https://localhost:8080/"
    },
    "executionInfo": {
     "elapsed": 17699,
     "status": "ok",
     "timestamp": 1652645374537,
     "user": {
      "displayName": "Paul Kang",
      "userId": "12965346162025885549"
     },
     "user_tz": 240
    },
    "id": "q8F5gmX9YBsX",
    "outputId": "c6eaf9d7-9be1-4566-c3f0-9bf2dbb88fec"
   },
   "outputs": [],
   "source": [
    "#from google.colab import drive\n",
    "#drive.mount('/content/drive')"
   ]
  },
  {
   "cell_type": "code",
   "execution_count": 3,
   "metadata": {
    "colab": {
     "base_uri": "https://localhost:8080/"
    },
    "executionInfo": {
     "elapsed": 6,
     "status": "ok",
     "timestamp": 1652645374537,
     "user": {
      "displayName": "Paul Kang",
      "userId": "12965346162025885549"
     },
     "user_tz": 240
    },
    "id": "pBitQV7SYQYR",
    "outputId": "f21db99f-a0a2-47db-f5f3-14ac78d1d68c"
   },
   "outputs": [],
   "source": [
    "#%cd /content/drive/My\\ Drive/pied-paper"
   ]
  },
  {
   "cell_type": "markdown",
   "metadata": {
    "id": "lPacAmF_AMGW"
   },
   "source": [
    "Change PyTorch and Torchtext version (using legacy features)"
   ]
  },
  {
   "cell_type": "code",
   "execution_count": 4,
   "metadata": {
    "colab": {
     "base_uri": "https://localhost:8080/"
    },
    "executionInfo": {
     "elapsed": 120885,
     "status": "ok",
     "timestamp": 1652645495419,
     "user": {
      "displayName": "Paul Kang",
      "userId": "12965346162025885549"
     },
     "user_tz": 240
    },
    "id": "OENwY5mBYSDJ",
    "outputId": "7af59c4a-1c59-482e-9a37-d03eefb3f781"
   },
   "outputs": [
    {
     "name": "stdout",
     "output_type": "stream",
     "text": [
      "Requirement already satisfied: torch==1.8.0 in c:\\users\\paulh\\appdata\\local\\programs\\python\\python39\\lib\\site-packages (1.8.0+cpu)\n",
      "Requirement already satisfied: numpy in c:\\users\\paulh\\appdata\\local\\programs\\python\\python39\\lib\\site-packages (from torch==1.8.0) (1.22.3)\n",
      "Requirement already satisfied: typing-extensions in c:\\users\\paulh\\appdata\\local\\programs\\python\\python39\\lib\\site-packages (from torch==1.8.0) (4.2.0)\n"
     ]
    },
    {
     "name": "stderr",
     "output_type": "stream",
     "text": [
      "WARNING: You are using pip version 22.0.4; however, version 22.1 is available.\n",
      "You should consider upgrading via the 'C:\\Users\\paulh\\AppData\\Local\\Programs\\Python\\Python39\\python.exe -m pip install --upgrade pip' command.\n"
     ]
    },
    {
     "name": "stdout",
     "output_type": "stream",
     "text": [
      "Requirement already satisfied: torchtext==0.9.0 in c:\\users\\paulh\\appdata\\local\\programs\\python\\python39\\lib\\site-packages (0.9.0)"
     ]
    },
    {
     "name": "stderr",
     "output_type": "stream",
     "text": [
      "WARNING: You are using pip version 22.0.4; however, version 22.1 is available.\n",
      "You should consider upgrading via the 'C:\\Users\\paulh\\AppData\\Local\\Programs\\Python\\Python39\\python.exe -m pip install --upgrade pip' command.\n"
     ]
    },
    {
     "name": "stdout",
     "output_type": "stream",
     "text": [
      "\n",
      "Requirement already satisfied: tqdm in c:\\users\\paulh\\appdata\\local\\programs\\python\\python39\\lib\\site-packages (from torchtext==0.9.0) (4.64.0)\n",
      "Requirement already satisfied: torch==1.8.0 in c:\\users\\paulh\\appdata\\local\\programs\\python\\python39\\lib\\site-packages (from torchtext==0.9.0) (1.8.0+cpu)\n",
      "Requirement already satisfied: numpy in c:\\users\\paulh\\appdata\\local\\programs\\python\\python39\\lib\\site-packages (from torchtext==0.9.0) (1.22.3)\n",
      "Requirement already satisfied: requests in c:\\users\\paulh\\appdata\\local\\programs\\python\\python39\\lib\\site-packages (from torchtext==0.9.0) (2.27.1)\n",
      "Requirement already satisfied: typing-extensions in c:\\users\\paulh\\appdata\\local\\programs\\python\\python39\\lib\\site-packages (from torch==1.8.0->torchtext==0.9.0) (4.2.0)\n",
      "Requirement already satisfied: charset-normalizer~=2.0.0 in c:\\users\\paulh\\appdata\\local\\programs\\python\\python39\\lib\\site-packages (from requests->torchtext==0.9.0) (2.0.12)\n",
      "Requirement already satisfied: urllib3<1.27,>=1.21.1 in c:\\users\\paulh\\appdata\\local\\programs\\python\\python39\\lib\\site-packages (from requests->torchtext==0.9.0) (1.26.9)\n",
      "Requirement already satisfied: idna<4,>=2.5 in c:\\users\\paulh\\appdata\\local\\programs\\python\\python39\\lib\\site-packages (from requests->torchtext==0.9.0) (3.3)\n",
      "Requirement already satisfied: certifi>=2017.4.17 in c:\\users\\paulh\\appdata\\local\\programs\\python\\python39\\lib\\site-packages (from requests->torchtext==0.9.0) (2021.10.8)\n",
      "Requirement already satisfied: colorama in c:\\users\\paulh\\appdata\\local\\programs\\python\\python39\\lib\\site-packages (from tqdm->torchtext==0.9.0) (0.4.4)\n"
     ]
    }
   ],
   "source": [
    "!pip install --upgrade torch==1.8.0\n",
    "!pip install --upgrade torchtext==0.9.0\n",
    "# !pip show torch\n",
    "# !pip show torchtext"
   ]
  },
  {
   "cell_type": "markdown",
   "metadata": {
    "id": "cZpxHBQPYekf"
   },
   "source": [
    "Data has already been preprocessed; it is in 'preprocessed/'"
   ]
  },
  {
   "cell_type": "code",
   "execution_count": 5,
   "metadata": {
    "executionInfo": {
     "elapsed": 2054,
     "status": "ok",
     "timestamp": 1652645497457,
     "user": {
      "displayName": "Paul Kang",
      "userId": "12965346162025885549"
     },
     "user_tz": 240
    },
    "id": "8yd57nUjYhr9"
   },
   "outputs": [
    {
     "name": "stderr",
     "output_type": "stream",
     "text": [
      "C:\\Users\\paulh\\AppData\\Local\\Programs\\Python\\Python39\\lib\\site-packages\\tqdm\\auto.py:22: TqdmWarning: IProgress not found. Please update jupyter and ipywidgets. See https://ipywidgets.readthedocs.io/en/stable/user_install.html\n",
      "  from .autonotebook import tqdm as notebook_tqdm\n"
     ]
    },
    {
     "ename": "ModuleNotFoundError",
     "evalue": "No module named 'sklearn'",
     "output_type": "error",
     "traceback": [
      "\u001b[1;31m---------------------------------------------------------------------------\u001b[0m",
      "\u001b[1;31mModuleNotFoundError\u001b[0m                       Traceback (most recent call last)",
      "Input \u001b[1;32mIn [5]\u001b[0m, in \u001b[0;36m<cell line: 12>\u001b[1;34m()\u001b[0m\n\u001b[0;32m      8\u001b[0m \u001b[38;5;28;01mfrom\u001b[39;00m \u001b[38;5;21;01mtorch\u001b[39;00m\u001b[38;5;21;01m.\u001b[39;00m\u001b[38;5;21;01mnn\u001b[39;00m\u001b[38;5;21;01m.\u001b[39;00m\u001b[38;5;21;01mutils\u001b[39;00m\u001b[38;5;21;01m.\u001b[39;00m\u001b[38;5;21;01mrnn\u001b[39;00m \u001b[38;5;28;01mimport\u001b[39;00m pack_padded_sequence, pad_packed_sequence\n\u001b[0;32m     10\u001b[0m \u001b[38;5;28;01mimport\u001b[39;00m \u001b[38;5;21;01mtorch\u001b[39;00m\u001b[38;5;21;01m.\u001b[39;00m\u001b[38;5;21;01moptim\u001b[39;00m \u001b[38;5;28;01mas\u001b[39;00m \u001b[38;5;21;01moptim\u001b[39;00m\n\u001b[1;32m---> 12\u001b[0m \u001b[38;5;28;01mfrom\u001b[39;00m \u001b[38;5;21;01msklearn\u001b[39;00m\u001b[38;5;21;01m.\u001b[39;00m\u001b[38;5;21;01mmetrics\u001b[39;00m \u001b[38;5;28;01mimport\u001b[39;00m accuracy_score, classification_report, confusion_matrix\n\u001b[0;32m     13\u001b[0m \u001b[38;5;28;01mimport\u001b[39;00m \u001b[38;5;21;01mseaborn\u001b[39;00m \u001b[38;5;28;01mas\u001b[39;00m \u001b[38;5;21;01msns\u001b[39;00m\n",
      "\u001b[1;31mModuleNotFoundError\u001b[0m: No module named 'sklearn'"
     ]
    }
   ],
   "source": [
    "import matplotlib.pyplot as plt\n",
    "import pandas as pd\n",
    "import torch\n",
    "\n",
    "from torchtext.legacy.data import Field, TabularDataset, BucketIterator\n",
    "\n",
    "import torch.nn as nn\n",
    "from torch.nn.utils.rnn import pack_padded_sequence, pad_packed_sequence\n",
    "\n",
    "import torch.optim as optim\n",
    "\n",
    "from sklearn.metrics import accuracy_score, classification_report, confusion_matrix\n",
    "import seaborn as sns"
   ]
  },
  {
   "cell_type": "code",
   "execution_count": null,
   "metadata": {
    "executionInfo": {
     "elapsed": 6,
     "status": "ok",
     "timestamp": 1652645497457,
     "user": {
      "displayName": "Paul Kang",
      "userId": "12965346162025885549"
     },
     "user_tz": 240
    },
    "id": "QNKuex5QYjRW"
   },
   "outputs": [],
   "source": [
    "device = torch.device('cuda' if torch.cuda.is_available() else 'cpu')"
   ]
  },
  {
   "cell_type": "markdown",
   "metadata": {
    "id": "GnBrdlRIASu6"
   },
   "source": [
    "Load data as train, valid, test data"
   ]
  },
  {
   "cell_type": "code",
   "execution_count": null,
   "metadata": {
    "executionInfo": {
     "elapsed": 31401,
     "status": "ok",
     "timestamp": 1652645529018,
     "user": {
      "displayName": "Paul Kang",
      "userId": "12965346162025885549"
     },
     "user_tz": 240
    },
    "id": "QiXEUHH7Yn4k"
   },
   "outputs": [],
   "source": [
    "# Fields\n",
    "\n",
    "label_field = Field(sequential=False, use_vocab=False, batch_first=True, dtype=torch.long)\n",
    "text_field = Field(tokenize='spacy', lower=True, include_lengths=True, batch_first=True, fix_length=200)\n",
    "fields = [('label', label_field), ('title', text_field), ('text', text_field), ('titletext', text_field)]\n",
    "\n",
    "# TabularDataset\n",
    "\n",
    "train, valid, test = TabularDataset.splits(path='preprocessed', train='train.csv', validation='valid.csv', test='test.csv',\n",
    "                                           format='CSV', fields=fields, skip_header=True)\n",
    "\n",
    "# Iterators\n",
    "\n",
    "train_iter = BucketIterator(train, batch_size=32, sort_key=lambda x: len(x.text),\n",
    "                            device=device, sort=True, sort_within_batch=True)\n",
    "valid_iter = BucketIterator(valid, batch_size=32, sort_key=lambda x: len(x.text),\n",
    "                            device=device, sort=True, sort_within_batch=True)\n",
    "test_iter = BucketIterator(test, batch_size=32, sort_key=lambda x: len(x.text),\n",
    "                            device=device, sort=True, sort_within_batch=True)\n",
    "\n",
    "# Vocabulary\n",
    "\n",
    "text_field.build_vocab(train, min_freq=3, vectors=\"glove.6B.100d\")"
   ]
  },
  {
   "cell_type": "markdown",
   "metadata": {
    "id": "eci-NAWbAYj-"
   },
   "source": [
    "Build vocabulary and print example words"
   ]
  },
  {
   "cell_type": "code",
   "execution_count": null,
   "metadata": {
    "colab": {
     "base_uri": "https://localhost:8080/"
    },
    "executionInfo": {
     "elapsed": 48,
     "status": "ok",
     "timestamp": 1652645529020,
     "user": {
      "displayName": "Paul Kang",
      "userId": "12965346162025885549"
     },
     "user_tz": 240
    },
    "id": "bk4Ks6iQZH7I",
    "outputId": "08eabee8-43a8-4208-898f-b8d80b881520"
   },
   "outputs": [],
   "source": [
    "examples = train.examples\n",
    "print(\"Number of tokens: \", len(examples[0].text))\n",
    "print(\"\\n\")\n",
    "print(\"Print first 200 tokens: \",examples[0].text[:200])\n",
    "print(\"\\n\")\n",
    "print(\"Print last 10 tokens: \",examples[0].text[-10:])"
   ]
  },
  {
   "cell_type": "code",
   "execution_count": null,
   "metadata": {
    "executionInfo": {
     "elapsed": 44,
     "status": "ok",
     "timestamp": 1652645529021,
     "user": {
      "displayName": "Paul Kang",
      "userId": "12965346162025885549"
     },
     "user_tz": 240
    },
    "id": "kjFcS5TfZPfj"
   },
   "outputs": [],
   "source": [
    "vocab = text_field.vocab"
   ]
  },
  {
   "cell_type": "code",
   "execution_count": null,
   "metadata": {
    "colab": {
     "base_uri": "https://localhost:8080/"
    },
    "executionInfo": {
     "elapsed": 43,
     "status": "ok",
     "timestamp": 1652645529021,
     "user": {
      "displayName": "Paul Kang",
      "userId": "12965346162025885549"
     },
     "user_tz": 240
    },
    "id": "_mI2SJmKZ7Bv",
    "outputId": "fad202d2-79ae-47e6-8073-d381f6b5490d"
   },
   "outputs": [],
   "source": [
    "\n",
    "print(\"Vocabulary size: \", len(vocab))\n",
    "print(\"10 most frequent words: \", vocab.freqs.most_common(10))"
   ]
  },
  {
   "cell_type": "code",
   "execution_count": null,
   "metadata": {
    "colab": {
     "base_uri": "https://localhost:8080/"
    },
    "executionInfo": {
     "elapsed": 40,
     "status": "ok",
     "timestamp": 1652645529023,
     "user": {
      "displayName": "Paul Kang",
      "userId": "12965346162025885549"
     },
     "user_tz": 240
    },
    "id": "Q-f0z9dTaDDV",
    "outputId": "43694b66-fcae-4ee5-e230-f02a3a660300"
   },
   "outputs": [],
   "source": [
    "print(\"First 10 words: \", vocab.itos[0:10])\n",
    "print(\"First 200 words of text data: \", train.examples[0].text[:200])\n",
    "print(\"Index of the first word: \", vocab.stoi[train.examples[0].text[0]])"
   ]
  },
  {
   "cell_type": "markdown",
   "metadata": {
    "id": "9DP7sh3gw3m6"
   },
   "source": [
    "MLP"
   ]
  },
  {
   "cell_type": "markdown",
   "metadata": {
    "id": "7qvgvrabAlNx"
   },
   "source": [
    "Class definition"
   ]
  },
  {
   "cell_type": "code",
   "execution_count": null,
   "metadata": {
    "id": "IOVbiDw7aJVl"
   },
   "outputs": [],
   "source": [
    "class TextClass(nn.Module):\n",
    "  def __init__(self):\n",
    "    super(TextClass, self).__init__()\n",
    "    self.embed = nn.Embedding(len(vocab), embedding_dim=100)\n",
    "    self.embed.weight.data.copy_(vocab.vectors)\n",
    "    self.fc = nn.Linear(in_features=200*100, out_features=2)\n",
    "  def forward(self, input, lengths=None):\n",
    "    embed = self.embed(input)\n",
    "\n",
    "    if lengths is not None:\n",
    "      lengths = lengths.view(-1).tolist()\n",
    "      packed_emb = pack_padded_sequence(embed, lengths)\n",
    "\n",
    "    embed = embed.reshape(-1, 200*100)\n",
    "\n",
    "    fc = self.fc(embed)\n",
    "    out = fc\n",
    "\n",
    "    return out"
   ]
  },
  {
   "cell_type": "markdown",
   "metadata": {
    "id": "L4Zz7LwjAnlG"
   },
   "source": [
    "Data shape, for debugging purposes"
   ]
  },
  {
   "cell_type": "code",
   "execution_count": null,
   "metadata": {
    "colab": {
     "base_uri": "https://localhost:8080/"
    },
    "executionInfo": {
     "elapsed": 14,
     "status": "ok",
     "timestamp": 1652490576135,
     "user": {
      "displayName": "Paul Kang",
      "userId": "12965346162025885549"
     },
     "user_tz": 240
    },
    "id": "sN7XD6Gz3R4C",
    "outputId": "37c9ef02-4e27-4169-8321-46e316208d2b"
   },
   "outputs": [],
   "source": [
    "data = next(iter(train_iter))\n",
    "(x, x_len), y = data.titletext, data.label\n",
    "print(x.shape)\n",
    "print(x_len.shape)\n",
    "print(y.shape)"
   ]
  },
  {
   "cell_type": "markdown",
   "metadata": {
    "id": "2E6nEwC1AqXj"
   },
   "source": [
    "Initialize model, optimizer, and loss criterion"
   ]
  },
  {
   "cell_type": "code",
   "execution_count": null,
   "metadata": {
    "colab": {
     "base_uri": "https://localhost:8080/"
    },
    "executionInfo": {
     "elapsed": 13,
     "status": "ok",
     "timestamp": 1652490576135,
     "user": {
      "displayName": "Paul Kang",
      "userId": "12965346162025885549"
     },
     "user_tz": 240
    },
    "id": "V4yXd2vQcrHX",
    "outputId": "c8f8deaa-171d-4e0e-cc69-a726b584b54e"
   },
   "outputs": [],
   "source": [
    "device = 'cpu'\n",
    "model = TextClass().to(device)\n",
    "optimizer = torch.optim.Adam(model.parameters())\n",
    "criterion = nn.CrossEntropyLoss()\n",
    "print(model)"
   ]
  },
  {
   "cell_type": "markdown",
   "metadata": {
    "id": "X18JsQkGAttR"
   },
   "source": [
    "Train model with backpropagation, plot resulting loss curve"
   ]
  },
  {
   "cell_type": "code",
   "execution_count": null,
   "metadata": {
    "colab": {
     "base_uri": "https://localhost:8080/",
     "height": 1000
    },
    "executionInfo": {
     "elapsed": 9115,
     "status": "ok",
     "timestamp": 1652490585238,
     "user": {
      "displayName": "Paul Kang",
      "userId": "12965346162025885549"
     },
     "user_tz": 240
    },
    "id": "hUh3Fwsqc5xi",
    "outputId": "446aaa13-ce47-440d-db78-68ab2dd114bc"
   },
   "outputs": [],
   "source": [
    "epochs = 20\n",
    "\n",
    "model.train()\n",
    "\n",
    "losses = []\n",
    "for epoch in range(epochs):\n",
    "\n",
    "  for batch_num, data in enumerate(train_iter):\n",
    "    (x, x_len), y = data.titletext, data.label\n",
    "\n",
    "    if batch_num == 0:\n",
    "      print(f\"Batch num: {batch_num}\")\n",
    "      print(f\"Input data shape: {data}\")\n",
    "    else:\n",
    "      pass\n",
    "\n",
    "    optimizer.zero_grad()\n",
    "    x = x.to(device)\n",
    "    y = y.to(device)\n",
    "\n",
    "    \n",
    "    output = model(x.reshape(-1,200))\n",
    "    #if batch_num == 0:\n",
    "    #  print(output)\n",
    "    \n",
    "    loss = criterion(output, y)\n",
    "    loss.backward()\n",
    "    losses.append(loss.item())\n",
    "\n",
    "    optimizer.step()\n",
    "    \n",
    "    if batch_num % 100 == 0:\n",
    "      print('\\tEpoch %d | Batch %d | Loss %6.2f' % (epoch, batch_num, loss.item()))\n",
    "  \n",
    "  print('Epoch %d | Loss %6.2f' % (epoch, sum(losses)/len(losses)))\n",
    "plt.plot(losses)"
   ]
  },
  {
   "cell_type": "markdown",
   "metadata": {
    "id": "qnsuqZSpA2to"
   },
   "source": [
    "Test of embedding layer, for debugging purposes"
   ]
  },
  {
   "cell_type": "code",
   "execution_count": null,
   "metadata": {
    "colab": {
     "base_uri": "https://localhost:8080/"
    },
    "executionInfo": {
     "elapsed": 211,
     "status": "ok",
     "timestamp": 1652646119429,
     "user": {
      "displayName": "Paul Kang",
      "userId": "12965346162025885549"
     },
     "user_tz": 240
    },
    "id": "MznfvCER4pVI",
    "outputId": "1a19e815-79c9-412b-8684-9ad1d30c4a1b"
   },
   "outputs": [],
   "source": [
    "embedding = nn.Embedding(len(vocab), 100)\n",
    "input = torch.LongTensor([[1,2,3,4,5],[6,7,8,9,10]])\n",
    "print(embedding(input).shape)"
   ]
  },
  {
   "cell_type": "code",
   "execution_count": null,
   "metadata": {
    "colab": {
     "base_uri": "https://localhost:8080/"
    },
    "executionInfo": {
     "elapsed": 10,
     "status": "ok",
     "timestamp": 1652490585240,
     "user": {
      "displayName": "Paul Kang",
      "userId": "12965346162025885549"
     },
     "user_tz": 240
    },
    "id": "hTz9dRy2DGKq",
    "outputId": "79c00f60-f6c5-4223-a013-d953a15e6850"
   },
   "outputs": [],
   "source": [
    "data = next(iter(test_iter))\n",
    "(x, x_len), y = data.titletext, data.label\n",
    "print(model(x).argmax(dim=1))"
   ]
  },
  {
   "cell_type": "markdown",
   "metadata": {
    "id": "fc5GKgA6A-w_"
   },
   "source": [
    "Evaluate model, for accuracy on test set"
   ]
  },
  {
   "cell_type": "code",
   "execution_count": null,
   "metadata": {
    "colab": {
     "base_uri": "https://localhost:8080/"
    },
    "executionInfo": {
     "elapsed": 1794,
     "status": "ok",
     "timestamp": 1652490587026,
     "user": {
      "displayName": "Paul Kang",
      "userId": "12965346162025885549"
     },
     "user_tz": 240
    },
    "id": "3k9oDybK_Z0B",
    "outputId": "e875caf5-f42e-4212-9d2b-7ed72d198e8a"
   },
   "outputs": [],
   "source": [
    "import itertools\n",
    "\n",
    "model.eval()\n",
    "with torch.no_grad():\n",
    "        predictions = []\n",
    "        num = 1\n",
    "        for data in test_iter:\n",
    "            (x, x_len), y_targ = data.titletext, data.label\n",
    "\n",
    "            x = x.to(device)\n",
    "            y_targ = y_targ.to(device)\n",
    "\n",
    "            output = model(x).argmax(dim=1)\n",
    "            #for y in output:\n",
    "            #    writer.writerow({fieldnames[0]: image_id,fieldnames[1]: y.item()})\n",
    "            #    image_id += 1\n",
    "            \n",
    "            if len(test_iter) % num == 5:\n",
    "              print(output)\n",
    "              print(y_targ)\n",
    "              print(output.shape)\n",
    "              print(torch.eq(output, y_targ))\n",
    "              #print(sum(torch.eq(output, y_targ)).item())\n",
    "\n",
    "            num += 1\n",
    "            eq = torch.eq(output, y_targ)\n",
    "            for element in eq:\n",
    "              predictions.append(element)\n",
    "        \n",
    "        accuracy = sum(predictions) / len(predictions)\n",
    "        print(f\"Length of predictions: {len(predictions)}\")\n",
    "        print(f\"Accuracy : {accuracy}\")\n",
    "        "
   ]
  },
  {
   "cell_type": "code",
   "execution_count": null,
   "metadata": {
    "colab": {
     "base_uri": "https://localhost:8080/"
    },
    "executionInfo": {
     "elapsed": 12,
     "status": "ok",
     "timestamp": 1652490587027,
     "user": {
      "displayName": "Paul Kang",
      "userId": "12965346162025885549"
     },
     "user_tz": 240
    },
    "id": "55CM80OMC9jc",
    "outputId": "4084335d-693e-419d-f1f8-ec376883ae15"
   },
   "outputs": [],
   "source": [
    "print(len(train_iter))\n",
    "print(len(valid_iter))\n",
    "print(len(test_iter))"
   ]
  },
  {
   "cell_type": "markdown",
   "metadata": {
    "id": "TIugL3bMw5hg"
   },
   "source": [
    "CNN"
   ]
  },
  {
   "cell_type": "code",
   "execution_count": null,
   "metadata": {
    "id": "4w_3XYG9w6Do"
   },
   "outputs": [],
   "source": [
    "class TextClassCNN(nn.Module):\n",
    "  def __init__(self):\n",
    "    super(TextClassCNN, self).__init__()\n",
    "    self.embed = nn.Embedding(len(vocab), embedding_dim=100)\n",
    "    self.embed.weight.data.copy_(vocab.vectors)\n",
    "    self.seq = nn.Sequential(\n",
    "        nn.Conv2d(in_channels=100, out_channels=64, kernel_size=(3,1), padding=(1,0)),\n",
    "        nn.ReLU(),\n",
    "        nn.Conv2d(in_channels=64, out_channels=32, kernel_size=(3,1), padding=(1,0)),\n",
    "        nn.ReLU(),\n",
    "        nn.Conv2d(in_channels=32, out_channels=16, kernel_size=(3,1), padding=(1,0)),\n",
    "        nn.ReLU()\n",
    "    )\n",
    "    self.fc = nn.Linear(in_features=16*200, out_features=2)\n",
    "  def forward(self, input, lengths=None):\n",
    "    embed = self.embed(input)\n",
    "\n",
    "    if lengths is not None:\n",
    "      lengths = lengths.view(-1).tolist()\n",
    "      packed_emb = pack_padded_sequence(embed, lengths)\n",
    "\n",
    "    embed = embed.reshape(-1, 100, 200, 1)\n",
    "\n",
    "    seq = self.seq(embed)\n",
    "    res = seq.reshape(-1, 16*200)\n",
    "\n",
    "    fc = self.fc(res)\n",
    "    out = fc\n",
    "\n",
    "    return out"
   ]
  },
  {
   "cell_type": "code",
   "execution_count": null,
   "metadata": {
    "colab": {
     "base_uri": "https://localhost:8080/"
    },
    "executionInfo": {
     "elapsed": 3,
     "status": "ok",
     "timestamp": 1652490655238,
     "user": {
      "displayName": "Paul Kang",
      "userId": "12965346162025885549"
     },
     "user_tz": 240
    },
    "id": "AIK-aiDry_Yy",
    "outputId": "5d56a538-ec2a-46b6-cd10-6459eb2d8ba4"
   },
   "outputs": [],
   "source": [
    "data = next(iter(train_iter))\n",
    "(x, x_len), y = data.titletext, data.label\n",
    "print(x.shape)\n",
    "print(x_len.shape)\n",
    "print(y.shape)"
   ]
  },
  {
   "cell_type": "code",
   "execution_count": null,
   "metadata": {
    "colab": {
     "base_uri": "https://localhost:8080/"
    },
    "executionInfo": {
     "elapsed": 2,
     "status": "ok",
     "timestamp": 1652490655797,
     "user": {
      "displayName": "Paul Kang",
      "userId": "12965346162025885549"
     },
     "user_tz": 240
    },
    "id": "_DJmVKqJzFZc",
    "outputId": "ea004d25-da40-470b-c44a-7e612e66d997"
   },
   "outputs": [],
   "source": [
    "device = 'cpu'\n",
    "cnn_model = TextClassCNN().to(device)\n",
    "optimizer = torch.optim.Adam(cnn_model.parameters())\n",
    "criterion = nn.CrossEntropyLoss()\n",
    "print(cnn_model)"
   ]
  },
  {
   "cell_type": "code",
   "execution_count": null,
   "metadata": {
    "colab": {
     "base_uri": "https://localhost:8080/",
     "height": 1000
    },
    "executionInfo": {
     "elapsed": 24796,
     "status": "ok",
     "timestamp": 1652490681301,
     "user": {
      "displayName": "Paul Kang",
      "userId": "12965346162025885549"
     },
     "user_tz": 240
    },
    "id": "tu2wHRkMzNiI",
    "outputId": "5bf4a731-c039-4165-c893-7a0626b8ff9f"
   },
   "outputs": [],
   "source": [
    "epochs = 10\n",
    "\n",
    "cnn_model.train()\n",
    "\n",
    "losses = []\n",
    "for epoch in range(epochs):\n",
    "\n",
    "  for batch_num, data in enumerate(train_iter):\n",
    "    (x, x_len), y = data.titletext, data.label\n",
    "\n",
    "    if batch_num == 0:\n",
    "      print(f\"Batch num: {batch_num}\")\n",
    "      print(f\"Input data shape: {data}\")\n",
    "    else:\n",
    "      pass\n",
    "\n",
    "    optimizer.zero_grad()\n",
    "    x = x.to(device)\n",
    "    y = y.to(device)\n",
    "\n",
    "    \n",
    "    output = cnn_model(x)\n",
    "    #if batch_num == 0:\n",
    "    #  print(output)\n",
    "    \n",
    "    loss = criterion(output, y)\n",
    "    loss.backward()\n",
    "    losses.append(loss.item())\n",
    "\n",
    "    optimizer.step()\n",
    "    \n",
    "    if batch_num % 100 == 0:\n",
    "      print('\\tEpoch %d | Batch %d | Loss %6.2f' % (epoch, batch_num, loss.item()))\n",
    "  \n",
    "  print('Epoch %d | Loss %6.2f' % (epoch, sum(losses)/len(losses)))\n",
    "plt.plot(losses)"
   ]
  },
  {
   "cell_type": "code",
   "execution_count": null,
   "metadata": {
    "colab": {
     "base_uri": "https://localhost:8080/"
    },
    "executionInfo": {
     "elapsed": 9838,
     "status": "ok",
     "timestamp": 1652490941970,
     "user": {
      "displayName": "Paul Kang",
      "userId": "12965346162025885549"
     },
     "user_tz": 240
    },
    "id": "dx67EyglzohW",
    "outputId": "ec529443-543d-4ea8-fce7-8ed8c0f37331"
   },
   "outputs": [],
   "source": [
    "import itertools\n",
    "\n",
    "cnn_model.eval()\n",
    "with torch.no_grad():\n",
    "        predictions = []\n",
    "        num = 1\n",
    "        for data in test_iter:\n",
    "            (x, x_len), y_targ = data.titletext, data.label\n",
    "\n",
    "            x = x.to(device)\n",
    "            y_targ = y_targ.to(device)\n",
    "\n",
    "            output = cnn_model(x).argmax(dim=1)\n",
    "            #for y in output:\n",
    "            #    writer.writerow({fieldnames[0]: image_id,fieldnames[1]: y.item()})\n",
    "            #    image_id += 1\n",
    "            \n",
    "            if len(test_iter) % num == 5:\n",
    "              print(output)\n",
    "              print(y_targ)\n",
    "              print(output.shape)\n",
    "              print(torch.eq(output, y_targ))\n",
    "              #print(sum(torch.eq(output, y_targ)).item())\n",
    "\n",
    "            num += 1\n",
    "            eq = torch.eq(output, y_targ)\n",
    "            for element in eq:\n",
    "              predictions.append(element)\n",
    "        \n",
    "        accuracy = sum(predictions) / len(predictions)\n",
    "        print(f\"Length of predictions: {len(predictions)}\")\n",
    "        print(f\"Accuracy : {accuracy}\")\n",
    "        "
   ]
  },
  {
   "cell_type": "markdown",
   "metadata": {
    "id": "wNb9NZwY_E58"
   },
   "source": [
    "RNN"
   ]
  },
  {
   "cell_type": "code",
   "execution_count": null,
   "metadata": {
    "executionInfo": {
     "elapsed": 128,
     "status": "ok",
     "timestamp": 1652647484345,
     "user": {
      "displayName": "Paul Kang",
      "userId": "12965346162025885549"
     },
     "user_tz": 240
    },
    "id": "SM5a5MsI_YmC"
   },
   "outputs": [],
   "source": [
    "input_size = 100\n",
    "sequence_length = 200\n",
    "hidden_size = 128\n",
    "num_layers = 1\n",
    "num_classes = 10"
   ]
  },
  {
   "cell_type": "code",
   "execution_count": null,
   "metadata": {
    "executionInfo": {
     "elapsed": 264,
     "status": "ok",
     "timestamp": 1652647519275,
     "user": {
      "displayName": "Paul Kang",
      "userId": "12965346162025885549"
     },
     "user_tz": 240
    },
    "id": "fZbjPCKf33lo"
   },
   "outputs": [],
   "source": [
    "class RNN(nn.Module):\n",
    "  def __init__(self, input_size, hidden_size, num_layers, num_classes):\n",
    "    super(RNN, self).__init__()\n",
    "    self.input_size = input_size\n",
    "    self.sequence_length = 28\n",
    "    self.hidden_size = hidden_size\n",
    "    self.num_layers = num_layers\n",
    "    self.num_classes = num_classes\n",
    "\n",
    "    self.embed = nn.Embedding(len(vocab), embedding_dim=100)\n",
    "    self.embed.weight.data.copy_(vocab.vectors)\n",
    "\n",
    "    self.rnn = nn.RNN(self.input_size, self.hidden_size, self.num_layers, batch_first = True)  \n",
    "    self.linear = nn.Linear(self.hidden_size, self.num_classes)\n",
    "  def forward(self, x):\n",
    "    h0 = torch.zeros(self.num_layers, x.size(0), self.hidden_size).to(device)\n",
    "\n",
    "    embed = self.embed(x)\n",
    "    #embed = embed.reshape(-1, 200*100)\n",
    "\n",
    "    out, _ = self.rnn(embed, h0)\n",
    "    out = out[:, -1, :]\n",
    "\n",
    "    out = self.linear(out)\n",
    "    return out"
   ]
  },
  {
   "cell_type": "code",
   "execution_count": null,
   "metadata": {
    "executionInfo": {
     "elapsed": 161,
     "status": "ok",
     "timestamp": 1652647519907,
     "user": {
      "displayName": "Paul Kang",
      "userId": "12965346162025885549"
     },
     "user_tz": 240
    },
    "id": "GnbBJeRdVI-H"
   },
   "outputs": [],
   "source": [
    "#  test = nn.RNN(input_size, hidden_size, num_layers, batch_first=True)\n",
    "#  x, y = next(train(iter))\n",
    "#  x = x[1][0]\n",
    "#  y = x\n",
    "#\n",
    "#  h0 = torch.zeros(num_layers, x.size(0), hidden_size)"
   ]
  },
  {
   "cell_type": "code",
   "execution_count": null,
   "metadata": {
    "executionInfo": {
     "elapsed": 153,
     "status": "ok",
     "timestamp": 1652647520630,
     "user": {
      "displayName": "Paul Kang",
      "userId": "12965346162025885549"
     },
     "user_tz": 240
    },
    "id": "NDLDsHlX_dc0"
   },
   "outputs": [],
   "source": [
    "device = 'cpu'\n",
    "rnn_model = RNN(input_size, hidden_size, num_layers, num_classes).to(device)\n",
    "optimizer = torch.optim.Adam(rnn_model.parameters())\n",
    "criterion = nn.CrossEntropyLoss()"
   ]
  },
  {
   "cell_type": "code",
   "execution_count": null,
   "metadata": {
    "colab": {
     "base_uri": "https://localhost:8080/"
    },
    "executionInfo": {
     "elapsed": 143,
     "status": "ok",
     "timestamp": 1652647521189,
     "user": {
      "displayName": "Paul Kang",
      "userId": "12965346162025885549"
     },
     "user_tz": 240
    },
    "id": "IML1LWWC_f8g",
    "outputId": "e664be66-17cb-4c37-c29d-47c72910c3d5"
   },
   "outputs": [],
   "source": [
    "batch_num, input_data = next(enumerate(train_iter))\n",
    "x, y_targ = input_data\n",
    "print(batch_num)\n",
    "print(x[0])\n",
    "print(x[1][0].shape)\n",
    "print(x[1][1])"
   ]
  },
  {
   "cell_type": "code",
   "execution_count": null,
   "metadata": {
    "colab": {
     "base_uri": "https://localhost:8080/",
     "height": 977
    },
    "executionInfo": {
     "elapsed": 43060,
     "status": "ok",
     "timestamp": 1652647564754,
     "user": {
      "displayName": "Paul Kang",
      "userId": "12965346162025885549"
     },
     "user_tz": 240
    },
    "id": "PLKqMG9h_jYy",
    "outputId": "6096714d-b63f-4fd7-80ad-0315c0be5d17"
   },
   "outputs": [],
   "source": [
    "epochs = 10\n",
    "batch_size = 32\n",
    "\n",
    "rnn_model.train()\n",
    "\n",
    "losses=[]\n",
    "for epoch in range(epochs):\n",
    "  for batch_num, input_data in enumerate(train_iter):\n",
    "    if batch_num == 0 or batch_num == round(len(input_data) / batch_size)-1:\n",
    "      print(f\"Batch num: {batch_num}\")\n",
    "      i1, i2 = input_data\n",
    "      print(f\"Input data shape: {i1[1][0].shape}\")\n",
    "    else:\n",
    "      pass\n",
    "    \n",
    "    optimizer.zero_grad()\n",
    "    a, b = input_data\n",
    "    x = a[1][0]\n",
    "    y = a[0]\n",
    "    x = x.to(device)\n",
    "    y = y.to(device)\n",
    "\n",
    "    output = rnn_model(x)\n",
    "    loss = criterion(output, y)\n",
    "    loss.backward()\n",
    "    losses.append(loss.item())\n",
    "\n",
    "    optimizer.step()\n",
    "\n",
    "    if batch_num % 100 == 0:\n",
    "      print('\\tEpoch %d | Batch %d | Loss %6.2f' % (epoch, batch_num, loss.item()))\n",
    "  print('Epoch %d | Loss %6.2f' % (epoch, sum(losses)/len(losses)))\n",
    "plt.plot(losses)\n"
   ]
  },
  {
   "cell_type": "code",
   "execution_count": null,
   "metadata": {
    "colab": {
     "base_uri": "https://localhost:8080/"
    },
    "executionInfo": {
     "elapsed": 5236,
     "status": "ok",
     "timestamp": 1652647581702,
     "user": {
      "displayName": "Paul Kang",
      "userId": "12965346162025885549"
     },
     "user_tz": 240
    },
    "id": "IcMV_nk4_kBr",
    "outputId": "8c2572a0-c69f-49d2-9507-f4a2b84ac45f"
   },
   "outputs": [],
   "source": [
    "import csv\n",
    "rnn_model.eval()\n",
    "\n",
    "with open('cnn_submission.csv', 'w') as f:\n",
    "    fieldnames = ['ImageId', 'Label']\n",
    "    writer = csv.DictWriter(f, fieldnames=fieldnames, lineterminator = '\\n')\n",
    "    writer.writeheader()\n",
    "    image_id = 1\n",
    "\n",
    "    with torch.no_grad():\n",
    "        predictions = []\n",
    "        num = 1\n",
    "        for a, b in test_iter:\n",
    "            x = a[1][0]\n",
    "            y_targ = a[0]\n",
    "\n",
    "            output = rnn_model(x).argmax(dim=1)\n",
    "            for y in output:\n",
    "                writer.writerow({fieldnames[0]: image_id,fieldnames[1]: y.item()})\n",
    "                image_id += 1\n",
    "            \n",
    "            if len(test_iter) % num == 5:\n",
    "              print(output)\n",
    "              print(y_targ)\n",
    "\n",
    "            num += 1\n",
    "            predictions.append(torch.eq(output, y_targ))\n",
    "        \n",
    "        print(predictions[0])\n",
    "        print(predictions[0].shape)\n",
    "        print(sum(predictions[:2]))\n",
    "        print(len(predictions))\n",
    "        tot_sum = 0\n",
    "        tot_len = 0\n",
    "        for tensor in predictions:\n",
    "          tot_sum += sum(tensor)\n",
    "          tot_len += len(tensor)\n",
    "        accuracy = tot_sum / tot_len\n",
    "        print(f\"Length of predictions: {tot_len}\")\n",
    "        print(f\"Accuracy : {accuracy}\")\n",
    "        "
   ]
  },
  {
   "cell_type": "code",
   "execution_count": null,
   "metadata": {
    "id": "Gw1Z5RjXbz1J"
   },
   "outputs": [],
   "source": []
  }
 ],
 "metadata": {
  "colab": {
   "authorship_tag": "ABX9TyNMh7AwvDcTcQ7/Cykrr3Tc",
   "collapsed_sections": [],
   "name": "text_classification.ipynb",
   "provenance": []
  },
  "kernelspec": {
   "display_name": "Python 3 (ipykernel)",
   "language": "python",
   "name": "python3"
  },
  "language_info": {
   "codemirror_mode": {
    "name": "ipython",
    "version": 3
   },
   "file_extension": ".py",
   "mimetype": "text/x-python",
   "name": "python",
   "nbconvert_exporter": "python",
   "pygments_lexer": "ipython3",
   "version": "3.9.12"
  }
 },
 "nbformat": 4,
 "nbformat_minor": 1
}
