{
 "cells": [
  {
   "cell_type": "code",
   "execution_count": 1,
   "metadata": {
    "colab": {
     "base_uri": "https://localhost:8080/"
    },
    "executionInfo": {
     "elapsed": 17296,
     "status": "ok",
     "timestamp": 1652621812951,
     "user": {
      "displayName": "Paul Kang",
      "userId": "12965346162025885549"
     },
     "user_tz": 240
    },
    "id": "YsdP2vK14PZk",
    "outputId": "cb90c616-608e-476e-82da-8468f34ddcdf"
   },
   "outputs": [],
   "source": [
    "#from google.colab import drive\n",
    "#drive.mount('/content/drive')"
   ]
  },
  {
   "cell_type": "code",
   "execution_count": 2,
   "metadata": {
    "colab": {
     "base_uri": "https://localhost:8080/"
    },
    "executionInfo": {
     "elapsed": 5,
     "status": "ok",
     "timestamp": 1652621812951,
     "user": {
      "displayName": "Paul Kang",
      "userId": "12965346162025885549"
     },
     "user_tz": 240
    },
    "id": "RYsX5Hj25CFk",
    "outputId": "e29ddf77-aa8c-4033-fdd2-b850f734e709"
   },
   "outputs": [],
   "source": [
    "#%cd /content/drive/My\\ Drive/pied-paper"
   ]
  },
  {
   "cell_type": "code",
   "execution_count": 3,
   "metadata": {
    "executionInfo": {
     "elapsed": 3109,
     "status": "ok",
     "timestamp": 1652621816057,
     "user": {
      "displayName": "Paul Kang",
      "userId": "12965346162025885549"
     },
     "user_tz": 240
    },
    "id": "8FOijMmF5Mjg"
   },
   "outputs": [
    {
     "name": "stderr",
     "output_type": "stream",
     "text": [
      "C:\\Users\\paulh\\AppData\\Local\\Programs\\Python\\Python39\\lib\\site-packages\\tqdm\\auto.py:22: TqdmWarning: IProgress not found. Please update jupyter and ipywidgets. See https://ipywidgets.readthedocs.io/en/stable/user_install.html\n",
      "  from .autonotebook import tqdm as notebook_tqdm\n"
     ]
    }
   ],
   "source": [
    "import torch\n",
    "from torch.utils.data import Dataset\n",
    "from torchvision import datasets\n",
    "from torchvision.transforms import ToTensor\n",
    "import matplotlib.pyplot as plt"
   ]
  },
  {
   "cell_type": "code",
   "execution_count": 4,
   "metadata": {
    "executionInfo": {
     "elapsed": 2624,
     "status": "ok",
     "timestamp": 1652621818679,
     "user": {
      "displayName": "Paul Kang",
      "userId": "12965346162025885549"
     },
     "user_tz": 240
    },
    "id": "134ZpFUe79YU"
   },
   "outputs": [
    {
     "name": "stdout",
     "output_type": "stream",
     "text": [
      "Downloading http://yann.lecun.com/exdb/mnist/train-images-idx3-ubyte.gz to data\\MNIST\\raw\\train-images-idx3-ubyte.gz\n"
     ]
    },
    {
     "name": "stderr",
     "output_type": "stream",
     "text": [
      "9913344it [00:01, 5335944.40it/s]                             \n"
     ]
    },
    {
     "name": "stdout",
     "output_type": "stream",
     "text": [
      "Extracting data\\MNIST\\raw\\train-images-idx3-ubyte.gz to data\\MNIST\\raw\n",
      "Downloading http://yann.lecun.com/exdb/mnist/train-labels-idx1-ubyte.gz to data\\MNIST\\raw\\train-labels-idx1-ubyte.gz\n"
     ]
    },
    {
     "name": "stderr",
     "output_type": "stream",
     "text": [
      "29696it [00:00, 28469497.50it/s]         "
     ]
    },
    {
     "name": "stdout",
     "output_type": "stream",
     "text": [
      "Extracting data\\MNIST\\raw\\train-labels-idx1-ubyte.gz to data\\MNIST\\raw\n"
     ]
    },
    {
     "name": "stderr",
     "output_type": "stream",
     "text": [
      "\n"
     ]
    },
    {
     "name": "stdout",
     "output_type": "stream",
     "text": [
      "Downloading http://yann.lecun.com/exdb/mnist/t10k-images-idx3-ubyte.gz to data\\MNIST\\raw\\t10k-images-idx3-ubyte.gz\n"
     ]
    },
    {
     "name": "stderr",
     "output_type": "stream",
     "text": [
      "1649664it [00:00, 5690022.31it/s]                             \n"
     ]
    },
    {
     "name": "stdout",
     "output_type": "stream",
     "text": [
      "Extracting data\\MNIST\\raw\\t10k-images-idx3-ubyte.gz to data\\MNIST\\raw\n",
      "Downloading http://yann.lecun.com/exdb/mnist/t10k-labels-idx1-ubyte.gz to data\\MNIST\\raw\\t10k-labels-idx1-ubyte.gz\n"
     ]
    },
    {
     "name": "stderr",
     "output_type": "stream",
     "text": [
      "5120it [00:00, ?it/s]                   "
     ]
    },
    {
     "name": "stdout",
     "output_type": "stream",
     "text": [
      "Extracting data\\MNIST\\raw\\t10k-labels-idx1-ubyte.gz to data\\MNIST\\raw\n",
      "Processing...\n"
     ]
    },
    {
     "name": "stderr",
     "output_type": "stream",
     "text": [
      "\n",
      "C:\\Users\\paulh\\AppData\\Local\\Programs\\Python\\Python39\\lib\\site-packages\\torchvision\\datasets\\mnist.py:479: UserWarning: The given NumPy array is not writeable, and PyTorch does not support non-writeable tensors. This means you can write to the underlying (supposedly non-writeable) NumPy array using the tensor. You may want to copy the array to protect its data or make it writeable before converting it to a tensor. This type of warning will be suppressed for the rest of this program. (Triggered internally at  ..\\torch\\csrc\\utils\\tensor_numpy.cpp:143.)\n",
      "  return torch.from_numpy(parsed.astype(m[2], copy=False)).view(*s)\n"
     ]
    },
    {
     "name": "stdout",
     "output_type": "stream",
     "text": [
      "Done!\n"
     ]
    }
   ],
   "source": [
    "training_data = datasets.MNIST(\n",
    "    root=\"data\",\n",
    "    train=True,\n",
    "    download=True,\n",
    "    transform=ToTensor()\n",
    ")\n",
    "\n",
    "test_data = datasets.MNIST(\n",
    "    root=\"data\",\n",
    "    train=False,\n",
    "    download=True,\n",
    "    transform=ToTensor()\n",
    ")"
   ]
  },
  {
   "cell_type": "code",
   "execution_count": 5,
   "metadata": {
    "colab": {
     "base_uri": "https://localhost:8080/",
     "height": 482
    },
    "executionInfo": {
     "elapsed": 280,
     "status": "ok",
     "timestamp": 1652621818956,
     "user": {
      "displayName": "Paul Kang",
      "userId": "12965346162025885549"
     },
     "user_tz": 240
    },
    "id": "byx9ERXs8CdZ",
    "outputId": "6b975fe9-3927-488c-b4c8-227e1ee383d2"
   },
   "outputs": [
    {
     "data": {
      "image/png": "[encoded data removed]",
      "text/plain": [
       "<Figure size 576x576 with 9 Axes>"
      ]
     },
     "metadata": {
      "needs_background": "light"
     },
     "output_type": "display_data"
    }
   ],
   "source": [
    "figure = plt.figure(figsize=(8, 8))\n",
    "cols, rows = 3, 3\n",
    "for i in range(1, cols * rows + 1):\n",
    "    sample_idx = torch.randint(len(training_data), size=(1,)).item()\n",
    "    img, label = training_data[sample_idx]\n",
    "    figure.add_subplot(rows, cols, i)\n",
    "    plt.title(label)\n",
    "    plt.axis(\"off\")\n",
    "    plt.imshow(img.squeeze(), cmap=\"gray\")\n",
    "plt.show()"
   ]
  },
  {
   "cell_type": "code",
   "execution_count": 6,
   "metadata": {
    "executionInfo": {
     "elapsed": 10,
     "status": "ok",
     "timestamp": 1652621818956,
     "user": {
      "displayName": "Paul Kang",
      "userId": "12965346162025885549"
     },
     "user_tz": 240
    },
    "id": "-Ub5-SU69JGM"
   },
   "outputs": [],
   "source": [
    "from torch.utils.data import DataLoader\n",
    "\n",
    "train_dataloader = DataLoader(training_data, batch_size=64, shuffle=True)\n",
    "test_dataloader = DataLoader(test_data, batch_size=64, shuffle=True)"
   ]
  },
  {
   "cell_type": "code",
   "execution_count": 7,
   "metadata": {
    "colab": {
     "base_uri": "https://localhost:8080/"
    },
    "executionInfo": {
     "elapsed": 9,
     "status": "ok",
     "timestamp": 1652621818956,
     "user": {
      "displayName": "Paul Kang",
      "userId": "12965346162025885549"
     },
     "user_tz": 240
    },
    "id": "ydwzSRAE9nj_",
    "outputId": "06e915f5-4bf8-47ef-bc42-12601c6f93f1"
   },
   "outputs": [
    {
     "data": {
      "text/plain": [
       "torch.Size([64, 1, 28, 28])"
      ]
     },
     "execution_count": 7,
     "metadata": {},
     "output_type": "execute_result"
    }
   ],
   "source": [
    "next(iter(train_dataloader))[0].shape"
   ]
  },
  {
   "cell_type": "code",
   "execution_count": 8,
   "metadata": {
    "executionInfo": {
     "elapsed": 7,
     "status": "ok",
     "timestamp": 1652621818956,
     "user": {
      "displayName": "Paul Kang",
      "userId": "12965346162025885549"
     },
     "user_tz": 240
    },
    "id": "VaxLwKdt9q3T"
   },
   "outputs": [],
   "source": [
    "train_features, train_labels = next(iter(train_dataloader))"
   ]
  },
  {
   "cell_type": "code",
   "execution_count": 9,
   "metadata": {
    "colab": {
     "base_uri": "https://localhost:8080/"
    },
    "executionInfo": {
     "elapsed": 8,
     "status": "ok",
     "timestamp": 1652621818957,
     "user": {
      "displayName": "Paul Kang",
      "userId": "12965346162025885549"
     },
     "user_tz": 240
    },
    "id": "LwfXqNXs98Eh",
    "outputId": "998b760d-fb3e-4f0e-a8e9-a8df534bd8bf"
   },
   "outputs": [
    {
     "name": "stdout",
     "output_type": "stream",
     "text": [
      "torch.Size([64, 1, 28, 28])\n",
      "torch.Size([64])\n"
     ]
    }
   ],
   "source": [
    "print(train_features.shape)\n",
    "print(train_labels.shape)"
   ]
  },
  {
   "cell_type": "code",
   "execution_count": 10,
   "metadata": {
    "colab": {
     "base_uri": "https://localhost:8080/",
     "height": 282
    },
    "executionInfo": {
     "elapsed": 180,
     "status": "ok",
     "timestamp": 1652621819132,
     "user": {
      "displayName": "Paul Kang",
      "userId": "12965346162025885549"
     },
     "user_tz": 240
    },
    "id": "3klOnFbe-LwY",
    "outputId": "db1d919b-9d8c-46b7-ffc7-f0cf0d984454"
   },
   "outputs": [
    {
     "data": {
      "image/png": "[encoded data removed]",
      "text/plain": [
       "<Figure size 432x288 with 1 Axes>"
      ]
     },
     "metadata": {
      "needs_background": "light"
     },
     "output_type": "display_data"
    },
    {
     "name": "stdout",
     "output_type": "stream",
     "text": [
      "Label: 3\n"
     ]
    }
   ],
   "source": [
    "img = train_features[0].squeeze()\n",
    "label = train_labels[0]\n",
    "plt.imshow(img, cmap=\"gray\")\n",
    "plt.show()\n",
    "print(f\"Label: {label}\")"
   ]
  },
  {
   "cell_type": "code",
   "execution_count": 11,
   "metadata": {
    "executionInfo": {
     "elapsed": 5,
     "status": "ok",
     "timestamp": 1652621819133,
     "user": {
      "displayName": "Paul Kang",
      "userId": "12965346162025885549"
     },
     "user_tz": 240
    },
    "id": "nHQFcjNc-0UC"
   },
   "outputs": [],
   "source": [
    "import torch.nn as nn\n",
    "\n",
    "class MLP(nn.Module):\n",
    "  def __init__(self):\n",
    "    super(MLP, self).__init__()\n",
    "    self.linear = nn.Linear(28*28, 10)\n",
    "  def forward(self, x):\n",
    "    out = self.linear(x)\n",
    "    return out"
   ]
  },
  {
   "cell_type": "code",
   "execution_count": 12,
   "metadata": {
    "id": "WR7IIADA_jTh"
   },
   "outputs": [],
   "source": [
    "device=\"cpu\"\n",
    "model = MLP().to(device)\n",
    "optimizer = torch.optim.Adam(model.parameters())\n",
    "criterion = nn.CrossEntropyLoss()"
   ]
  },
  {
   "cell_type": "code",
   "execution_count": 13,
   "metadata": {
    "colab": {
     "base_uri": "https://localhost:8080/"
    },
    "executionInfo": {
     "elapsed": 4,
     "status": "ok",
     "timestamp": 1652466827228,
     "user": {
      "displayName": "Paul Kang",
      "userId": "12965346162025885549"
     },
     "user_tz": 240
    },
    "id": "2K1X3-zf_vrf",
    "outputId": "750a8285-b4f6-49c8-bc96-879296cdca60"
   },
   "outputs": [
    {
     "name": "stdout",
     "output_type": "stream",
     "text": [
      "MLP(\n",
      "  (linear): Linear(in_features=784, out_features=10, bias=True)\n",
      ")\n"
     ]
    }
   ],
   "source": [
    "print(model)"
   ]
  },
  {
   "cell_type": "code",
   "execution_count": null,
   "metadata": {
    "colab": {
     "base_uri": "https://localhost:8080/",
     "height": 1000
    },
    "executionInfo": {
     "elapsed": 65852,
     "status": "ok",
     "timestamp": 1652466893077,
     "user": {
      "displayName": "Paul Kang",
      "userId": "12965346162025885549"
     },
     "user_tz": 240
    },
    "id": "IPV8OXjU_x9N",
    "outputId": "38d4060a-73ee-41cf-a1d9-d24ab8e50d6a"
   },
   "outputs": [
    {
     "name": "stdout",
     "output_type": "stream",
     "text": [
      "Batch num: 0\n",
      "Input data shape: torch.Size([64, 1, 28, 28])\n",
      "\tEpoch 0 | Batch 0 | Loss   2.29\n",
      "\tEpoch 0 | Batch 100 | Loss   0.79\n",
      "\tEpoch 0 | Batch 200 | Loss   0.76\n",
      "\tEpoch 0 | Batch 300 | Loss   0.74\n",
      "\tEpoch 0 | Batch 400 | Loss   0.48\n",
      "\tEpoch 0 | Batch 500 | Loss   0.44\n",
      "\tEpoch 0 | Batch 600 | Loss   0.32\n",
      "\tEpoch 0 | Batch 700 | Loss   0.39\n",
      "\tEpoch 0 | Batch 800 | Loss   0.32\n",
      "\tEpoch 0 | Batch 900 | Loss   0.37\n",
      "Batch num: 937\n",
      "Input data shape: torch.Size([32, 1, 28, 28])\n",
      "Epoch 0 | Loss   0.54\n",
      "Batch num: 0\n",
      "Input data shape: torch.Size([64, 1, 28, 28])\n",
      "\tEpoch 1 | Batch 0 | Loss   0.30\n",
      "\tEpoch 1 | Batch 100 | Loss   0.25\n",
      "\tEpoch 1 | Batch 200 | Loss   0.34\n",
      "\tEpoch 1 | Batch 300 | Loss   0.36\n",
      "\tEpoch 1 | Batch 400 | Loss   0.20\n",
      "\tEpoch 1 | Batch 500 | Loss   0.46\n",
      "\tEpoch 1 | Batch 600 | Loss   0.43\n",
      "\tEpoch 1 | Batch 700 | Loss   0.19\n",
      "\tEpoch 1 | Batch 800 | Loss   0.20\n",
      "\tEpoch 1 | Batch 900 | Loss   0.35\n",
      "Batch num: 937\n",
      "Input data shape: torch.Size([32, 1, 28, 28])\n",
      "Epoch 1 | Loss   0.43\n",
      "Batch num: 0\n",
      "Input data shape: torch.Size([64, 1, 28, 28])\n",
      "\tEpoch 2 | Batch 0 | Loss   0.24\n",
      "\tEpoch 2 | Batch 100 | Loss   0.15\n",
      "\tEpoch 2 | Batch 200 | Loss   0.17\n",
      "\tEpoch 2 | Batch 300 | Loss   0.13\n",
      "\tEpoch 2 | Batch 400 | Loss   0.49\n",
      "\tEpoch 2 | Batch 500 | Loss   0.30\n",
      "\tEpoch 2 | Batch 600 | Loss   0.54\n",
      "\tEpoch 2 | Batch 700 | Loss   0.39\n",
      "\tEpoch 2 | Batch 800 | Loss   0.43\n",
      "\tEpoch 2 | Batch 900 | Loss   0.39\n",
      "Batch num: 937\n",
      "Input data shape: torch.Size([32, 1, 28, 28])\n",
      "Epoch 2 | Loss   0.39\n",
      "Batch num: 0\n",
      "Input data shape: torch.Size([64, 1, 28, 28])\n",
      "\tEpoch 3 | Batch 0 | Loss   0.26\n",
      "\tEpoch 3 | Batch 100 | Loss   0.40\n",
      "\tEpoch 3 | Batch 200 | Loss   0.35\n",
      "\tEpoch 3 | Batch 300 | Loss   0.20\n",
      "\tEpoch 3 | Batch 400 | Loss   0.39\n",
      "\tEpoch 3 | Batch 500 | Loss   0.32\n",
      "\tEpoch 3 | Batch 600 | Loss   0.22\n",
      "\tEpoch 3 | Batch 700 | Loss   0.29\n",
      "\tEpoch 3 | Batch 800 | Loss   0.24\n",
      "\tEpoch 3 | Batch 900 | Loss   0.18\n",
      "Batch num: 937\n",
      "Input data shape: torch.Size([32, 1, 28, 28])\n",
      "Epoch 3 | Loss   0.36\n",
      "Batch num: 0\n",
      "Input data shape: torch.Size([64, 1, 28, 28])\n",
      "\tEpoch 4 | Batch 0 | Loss   0.26\n",
      "\tEpoch 4 | Batch 100 | Loss   0.33\n",
      "\tEpoch 4 | Batch 200 | Loss   0.26\n",
      "\tEpoch 4 | Batch 300 | Loss   0.24\n",
      "\tEpoch 4 | Batch 400 | Loss   0.24\n",
      "\tEpoch 4 | Batch 500 | Loss   0.34\n",
      "\tEpoch 4 | Batch 600 | Loss   0.35\n",
      "\tEpoch 4 | Batch 700 | Loss   0.29\n",
      "\tEpoch 4 | Batch 800 | Loss   0.30\n",
      "\tEpoch 4 | Batch 900 | Loss   0.35\n",
      "Batch num: 937\n",
      "Input data shape: torch.Size([32, 1, 28, 28])\n",
      "Epoch 4 | Loss   0.34\n",
      "Batch num: 0\n",
      "Input data shape: torch.Size([64, 1, 28, 28])\n",
      "\tEpoch 5 | Batch 0 | Loss   0.13\n",
      "\tEpoch 5 | Batch 100 | Loss   0.19\n",
      "\tEpoch 5 | Batch 200 | Loss   0.19\n",
      "\tEpoch 5 | Batch 300 | Loss   0.25\n",
      "\tEpoch 5 | Batch 400 | Loss   0.20\n",
      "\tEpoch 5 | Batch 500 | Loss   0.41\n",
      "\tEpoch 5 | Batch 600 | Loss   0.24\n",
      "\tEpoch 5 | Batch 700 | Loss   0.28\n",
      "\tEpoch 5 | Batch 800 | Loss   0.42\n",
      "\tEpoch 5 | Batch 900 | Loss   0.34\n",
      "Batch num: 937\n",
      "Input data shape: torch.Size([32, 1, 28, 28])\n",
      "Epoch 5 | Loss   0.33\n",
      "Batch num: 0\n",
      "Input data shape: torch.Size([64, 1, 28, 28])\n",
      "\tEpoch 6 | Batch 0 | Loss   0.21\n",
      "\tEpoch 6 | Batch 100 | Loss   0.34\n",
      "\tEpoch 6 | Batch 200 | Loss   0.24\n",
      "\tEpoch 6 | Batch 300 | Loss   0.12\n",
      "\tEpoch 6 | Batch 400 | Loss   0.26\n",
      "\tEpoch 6 | Batch 500 | Loss   0.14\n",
      "\tEpoch 6 | Batch 600 | Loss   0.18\n",
      "\tEpoch 6 | Batch 700 | Loss   0.19\n",
      "\tEpoch 6 | Batch 800 | Loss   0.32\n",
      "\tEpoch 6 | Batch 900 | Loss   0.53\n",
      "Batch num: 937\n",
      "Input data shape: torch.Size([32, 1, 28, 28])\n",
      "Epoch 6 | Loss   0.32\n",
      "Batch num: 0\n",
      "Input data shape: torch.Size([64, 1, 28, 28])\n",
      "\tEpoch 7 | Batch 0 | Loss   0.12\n",
      "\tEpoch 7 | Batch 100 | Loss   0.15\n",
      "\tEpoch 7 | Batch 200 | Loss   0.13\n",
      "\tEpoch 7 | Batch 300 | Loss   0.21\n",
      "\tEpoch 7 | Batch 400 | Loss   0.39\n",
      "\tEpoch 7 | Batch 500 | Loss   0.20\n",
      "\tEpoch 7 | Batch 600 | Loss   0.34\n",
      "\tEpoch 7 | Batch 700 | Loss   0.21\n"
     ]
    }
   ],
   "source": [
    "epochs = 10\n",
    "batch_size = 64\n",
    "\n",
    "model.train()\n",
    "\n",
    "losses = []\n",
    "for epoch in range(epochs):\n",
    "\n",
    "  for batch_num, input_data in enumerate(train_dataloader):\n",
    "    if batch_num == 0 or batch_num == round(len(training_data) / batch_size)-1:\n",
    "      print(f\"Batch num: {batch_num}\")\n",
    "      print(f\"Input data shape: {input_data[0].shape}\")\n",
    "    else:\n",
    "      pass\n",
    "    \n",
    "    optimizer.zero_grad()\n",
    "    x, y = input_data\n",
    "    x = x.to(device).float()\n",
    "    y = y.to(device)\n",
    "\n",
    "    output = model(x.reshape(-1, 28*28))\n",
    "    loss = criterion(output, y)\n",
    "    loss.backward()\n",
    "    losses.append(loss.item())\n",
    "\n",
    "    optimizer.step()\n",
    "\n",
    "    if batch_num % 100 == 0:\n",
    "      print('\\tEpoch %d | Batch %d | Loss %6.2f' % (epoch, batch_num, loss.item()))\n",
    "  print('Epoch %d | Loss %6.2f' % (epoch, sum(losses)/len(losses)))\n",
    "plt.plot(losses)"
   ]
  },
  {
   "cell_type": "code",
   "execution_count": null,
   "metadata": {
    "colab": {
     "base_uri": "https://localhost:8080/"
    },
    "executionInfo": {
     "elapsed": 15,
     "status": "ok",
     "timestamp": 1652466893078,
     "user": {
      "displayName": "Paul Kang",
      "userId": "12965346162025885549"
     },
     "user_tz": 240
    },
    "id": "ANN85hhjBKzR",
    "outputId": "a38b469b-665a-4442-d6fb-6f77afdd331f"
   },
   "outputs": [],
   "source": [
    "model(next(iter(train_dataloader))[0].reshape(batch_size, 28*28))[0]"
   ]
  },
  {
   "cell_type": "code",
   "execution_count": null,
   "metadata": {
    "colab": {
     "base_uri": "https://localhost:8080/"
    },
    "executionInfo": {
     "elapsed": 1211,
     "status": "ok",
     "timestamp": 1652466894284,
     "user": {
      "displayName": "Paul Kang",
      "userId": "12965346162025885549"
     },
     "user_tz": 240
    },
    "id": "yOK2rXIFCKLl",
    "outputId": "9d09ba7d-9ee1-4bb4-c5d0-3d8535dc4fea"
   },
   "outputs": [],
   "source": [
    "import csv\n",
    "model.eval()\n",
    "\n",
    "with open('mlp_submission.csv', 'w') as f:\n",
    "    fieldnames = ['ImageId', 'Label']\n",
    "    writer = csv.DictWriter(f, fieldnames=fieldnames, lineterminator = '\\n')\n",
    "    writer.writeheader()\n",
    "    image_id = 1\n",
    "\n",
    "    with torch.no_grad():\n",
    "        predictions = []\n",
    "        num = 1\n",
    "        for x, y_targ in test_dataloader:\n",
    "            x = x[0].to(device).float()\n",
    "\n",
    "            output = model(x.reshape(-1, 28*28)).argmax(dim=1)\n",
    "            for y in output:\n",
    "                writer.writerow({fieldnames[0]: image_id,fieldnames[1]: y.item()})\n",
    "                image_id += 1\n",
    "            \n",
    "            if len(test_dataloader) % num == 5:\n",
    "              print(output)\n",
    "              print(y_targ[0].reshape(1,))\n",
    "\n",
    "            num += 1\n",
    "            predictions.append(torch.equal(output, y_targ[0].reshape(1,)))\n",
    "        \n",
    "        accuracy = sum(predictions) / len(predictions)\n",
    "        print(f\"Length of predictions: {len(predictions)}\")\n",
    "        print(f\"Accuracy : {accuracy}\")\n",
    "        "
   ]
  },
  {
   "cell_type": "code",
   "execution_count": null,
   "metadata": {
    "colab": {
     "base_uri": "https://localhost:8080/"
    },
    "executionInfo": {
     "elapsed": 6,
     "status": "ok",
     "timestamp": 1652466894284,
     "user": {
      "displayName": "Paul Kang",
      "userId": "12965346162025885549"
     },
     "user_tz": 240
    },
    "id": "tApliZ9eNeQf",
    "outputId": "4a9d39ae-3755-4bdc-8e5c-c440db68ec53"
   },
   "outputs": [],
   "source": [
    "True+True"
   ]
  },
  {
   "cell_type": "markdown",
   "metadata": {
    "id": "qiAUoDOrxl2i"
   },
   "source": [
    "CNN"
   ]
  },
  {
   "cell_type": "code",
   "execution_count": null,
   "metadata": {
    "id": "LcsuKVbpYw4x"
   },
   "outputs": [],
   "source": [
    "class CNN(nn.Module):\n",
    "  def __init__(self):\n",
    "    super(CNN, self).__init__()\n",
    "    self.seq = nn.Sequential(\n",
    "        nn.Conv2d(in_channels=1, out_channels=32, kernel_size=3, padding=1),\n",
    "        nn.ReLU(),\n",
    "        nn.Conv2d(in_channels=32, out_channels=16, kernel_size=3, padding=1),\n",
    "        nn.ReLU(),\n",
    "        nn.Conv2d(in_channels=16, out_channels=8, kernel_size=3, padding=1),\n",
    "        nn.ReLU(),\n",
    "    )\n",
    "    self.linear = nn.Linear(8*28*28, 10)\n",
    "  def forward(self, x):\n",
    "    seq = self.seq(x)\n",
    "    res = seq.reshape(-1, 8*28*28)\n",
    "    out = self.linear(res)\n",
    "    return out"
   ]
  },
  {
   "cell_type": "code",
   "execution_count": null,
   "metadata": {
    "colab": {
     "base_uri": "https://localhost:8080/"
    },
    "executionInfo": {
     "elapsed": 4,
     "status": "ok",
     "timestamp": 1652466894285,
     "user": {
      "displayName": "Paul Kang",
      "userId": "12965346162025885549"
     },
     "user_tz": 240
    },
    "id": "M5CTusZzvTMF",
    "outputId": "b76a19a6-dfe7-4215-dbfd-36db2f388ba5"
   },
   "outputs": [],
   "source": [
    "x, y = next(iter(train_dataloader))\n",
    "print(x.shape)\n",
    "print(y.shape)"
   ]
  },
  {
   "cell_type": "code",
   "execution_count": null,
   "metadata": {
    "colab": {
     "base_uri": "https://localhost:8080/"
    },
    "executionInfo": {
     "elapsed": 166,
     "status": "ok",
     "timestamp": 1652466894448,
     "user": {
      "displayName": "Paul Kang",
      "userId": "12965346162025885549"
     },
     "user_tz": 240
    },
    "id": "ItwveQ6FtRqd",
    "outputId": "7b271c95-47a6-46ce-efa5-6b8536e0c8f6"
   },
   "outputs": [],
   "source": [
    "device = 'cpu'\n",
    "cnn_model = CNN().to(device)\n",
    "print(cnn_model)\n",
    "optimizer = torch.optim.Adam(cnn_model.parameters())\n",
    "criterion = nn.CrossEntropyLoss()"
   ]
  },
  {
   "cell_type": "code",
   "execution_count": null,
   "metadata": {
    "colab": {
     "base_uri": "https://localhost:8080/"
    },
    "executionInfo": {
     "elapsed": 6,
     "status": "ok",
     "timestamp": 1652466894449,
     "user": {
      "displayName": "Paul Kang",
      "userId": "12965346162025885549"
     },
     "user_tz": 240
    },
    "id": "PcmXcjTOxfn2",
    "outputId": "b9ff756a-e6cd-46c0-a9d8-7a42b4c143b8"
   },
   "outputs": [],
   "source": [
    "cnn_model(x).shape"
   ]
  },
  {
   "cell_type": "code",
   "execution_count": null,
   "metadata": {
    "colab": {
     "base_uri": "https://localhost:8080/",
     "height": 1000
    },
    "executionInfo": {
     "elapsed": 749587,
     "status": "ok",
     "timestamp": 1652467644032,
     "user": {
      "displayName": "Paul Kang",
      "userId": "12965346162025885549"
     },
     "user_tz": 240
    },
    "id": "13dZRH4htvAT",
    "outputId": "fd86dd4b-4ee0-4bd3-f67d-04ff64c5e4cc"
   },
   "outputs": [],
   "source": [
    "epochs = 10\n",
    "batch_size = 64\n",
    "\n",
    "losses = []\n",
    "cnn_model.train()\n",
    "for epoch in range(epochs):\n",
    "  for batch_num, input_data in enumerate(train_dataloader):\n",
    "    if batch_num == 0 or batch_num == round(len(training_data) / batch_size)-1:\n",
    "      print(f\"Batch num: {batch_num}\")\n",
    "      print(f\"Input data shape: {input_data[0].shape}\")\n",
    "    else:\n",
    "      pass\n",
    "    \n",
    "    optimizer.zero_grad()\n",
    "    x, y = input_data\n",
    "    x = x.to(device).float()\n",
    "    y = y.to(device)\n",
    "\n",
    "    output = cnn_model(x)\n",
    "    loss = criterion(output, y)\n",
    "    loss.backward()\n",
    "    losses.append(loss.item())\n",
    "\n",
    "    optimizer.step()\n",
    "\n",
    "    if batch_num % 100 == 0:\n",
    "      print('\\tEpoch %d | Batch %d | Loss %6.2f' % (epoch, batch_num, loss.item()))\n",
    "  print('Epoch %d | Loss %6.2f' % (epoch, sum(losses)/len(losses)))\n",
    "plt.plot(losses)"
   ]
  },
  {
   "cell_type": "code",
   "execution_count": null,
   "metadata": {
    "colab": {
     "base_uri": "https://localhost:8080/"
    },
    "executionInfo": {
     "elapsed": 8,
     "status": "ok",
     "timestamp": 1652467644034,
     "user": {
      "displayName": "Paul Kang",
      "userId": "12965346162025885549"
     },
     "user_tz": 240
    },
    "id": "GycIy0bjuby1",
    "outputId": "bc985d30-835c-4379-b0b9-8d6640caf334"
   },
   "outputs": [],
   "source": [
    "len(train_dataloader)"
   ]
  },
  {
   "cell_type": "code",
   "execution_count": null,
   "metadata": {
    "colab": {
     "base_uri": "https://localhost:8080/"
    },
    "executionInfo": {
     "elapsed": 5688,
     "status": "ok",
     "timestamp": 1652467649716,
     "user": {
      "displayName": "Paul Kang",
      "userId": "12965346162025885549"
     },
     "user_tz": 240
    },
    "id": "aMepqBNjw9Tg",
    "outputId": "c0447a59-6efb-4da9-cba9-7f7b38bb335a"
   },
   "outputs": [],
   "source": [
    "import csv\n",
    "cnn_model.eval()\n",
    "\n",
    "with open('cnn_submission.csv', 'w') as f:\n",
    "    fieldnames = ['ImageId', 'Label']\n",
    "    writer = csv.DictWriter(f, fieldnames=fieldnames, lineterminator = '\\n')\n",
    "    writer.writeheader()\n",
    "    image_id = 1\n",
    "\n",
    "    with torch.no_grad():\n",
    "        predictions = []\n",
    "        num = 1\n",
    "        for x, y_targ in test_dataloader:\n",
    "            x = x.to(device).float()\n",
    "\n",
    "            output = cnn_model(x).argmax(dim=1)\n",
    "            for y in output:\n",
    "                writer.writerow({fieldnames[0]: image_id,fieldnames[1]: y.item()})\n",
    "                image_id += 1\n",
    "            \n",
    "            if len(test_dataloader) % num == 5:\n",
    "              print(output)\n",
    "              print(y_targ)\n",
    "\n",
    "            num += 1\n",
    "            predictions.append(torch.eq(output, y_targ))\n",
    "        \n",
    "        print(predictions[0])\n",
    "        print(predictions[0].shape)\n",
    "        print(sum(predictions[:2]))\n",
    "        print(len(predictions))\n",
    "        tot_sum = 0\n",
    "        tot_len = 0\n",
    "        for tensor in predictions:\n",
    "          tot_sum += sum(tensor)\n",
    "          tot_len += len(tensor)\n",
    "        accuracy = tot_sum / tot_len\n",
    "        print(f\"Length of predictions: {tot_len}\")\n",
    "        print(f\"Accuracy : {accuracy}\")\n",
    "        "
   ]
  },
  {
   "cell_type": "markdown",
   "metadata": {
    "id": "5lcMsQntzAcL"
   },
   "source": [
    "RNN"
   ]
  },
  {
   "cell_type": "code",
   "execution_count": null,
   "metadata": {
    "executionInfo": {
     "elapsed": 308,
     "status": "ok",
     "timestamp": 1652621905312,
     "user": {
      "displayName": "Paul Kang",
      "userId": "12965346162025885549"
     },
     "user_tz": 240
    },
    "id": "qe40Ii6E6Jyf"
   },
   "outputs": [],
   "source": [
    "class RNN(nn.Module):\n",
    "  def __init__(self, input_size, hidden_size, num_layers, num_classes):\n",
    "    super(RNN, self).__init__()\n",
    "    self.input_size = input_size\n",
    "    self.sequence_length = 28\n",
    "    self.hidden_size = hidden_size\n",
    "    self.num_layers = num_layers\n",
    "    self.num_classes = num_classes\n",
    "\n",
    "    self.rnn = nn.RNN(self.input_size, self.hidden_size, self.num_layers, batch_first = True)  \n",
    "    self.linear = nn.Linear(self.hidden_size, self.num_classes)\n",
    "  def forward(self, x):\n",
    "    h0 = torch.zeros(self.num_layers, x.size(0), self.hidden_size).to(device)\n",
    "\n",
    "    out, _ = self.rnn(x, h0)\n",
    "    out = out[:, -1, :]\n",
    "\n",
    "    out = self.linear(out)\n",
    "    return out"
   ]
  },
  {
   "cell_type": "code",
   "execution_count": null,
   "metadata": {
    "executionInfo": {
     "elapsed": 4,
     "status": "ok",
     "timestamp": 1652621905313,
     "user": {
      "displayName": "Paul Kang",
      "userId": "12965346162025885549"
     },
     "user_tz": 240
    },
    "id": "0P0DBHKG1HLj"
   },
   "outputs": [],
   "source": [
    "input_size = 28\n",
    "sequence_length = 28\n",
    "hidden_size = 128\n",
    "num_layers = 1\n",
    "num_classes = 10"
   ]
  },
  {
   "cell_type": "code",
   "execution_count": null,
   "metadata": {
    "executionInfo": {
     "elapsed": 3,
     "status": "ok",
     "timestamp": 1652621905313,
     "user": {
      "displayName": "Paul Kang",
      "userId": "12965346162025885549"
     },
     "user_tz": 240
    },
    "id": "7Ek_X86TmzO3"
   },
   "outputs": [],
   "source": [
    "device = 'cpu'\n",
    "rnn_model = RNN(input_size, hidden_size, num_layers, num_classes).to(device)\n",
    "optimizer = torch.optim.Adam(rnn_model.parameters())\n",
    "criterion = nn.CrossEntropyLoss()"
   ]
  },
  {
   "cell_type": "code",
   "execution_count": null,
   "metadata": {
    "colab": {
     "base_uri": "https://localhost:8080/"
    },
    "executionInfo": {
     "elapsed": 224,
     "status": "ok",
     "timestamp": 1652622396837,
     "user": {
      "displayName": "Paul Kang",
      "userId": "12965346162025885549"
     },
     "user_tz": 240
    },
    "id": "s0PhYjFT79PS",
    "outputId": "779fe225-9de2-471f-ca79-fc25fca69333"
   },
   "outputs": [],
   "source": [
    "batch_num, input_data = next(enumerate(train_dataloader))\n",
    "x, y = input_data\n",
    "print(batch_num)\n",
    "print(x.shape)\n",
    "print(y)"
   ]
  },
  {
   "cell_type": "code",
   "execution_count": null,
   "metadata": {
    "colab": {
     "base_uri": "https://localhost:8080/",
     "height": 1000
    },
    "executionInfo": {
     "elapsed": 148236,
     "status": "ok",
     "timestamp": 1652622560028,
     "user": {
      "displayName": "Paul Kang",
      "userId": "12965346162025885549"
     },
     "user_tz": 240
    },
    "id": "QOzxGdk0nj2A",
    "outputId": "b0451fe6-d136-4a56-aaf6-421e5d20013f"
   },
   "outputs": [],
   "source": [
    "epochs = 10\n",
    "batch_size = 64\n",
    "\n",
    "rnn_model.train()\n",
    "\n",
    "losses = []\n",
    "for epoch in range(epochs):\n",
    "  for batch_num, input_data in enumerate(train_dataloader):\n",
    "    if batch_num == 0 or batch_num == round(len(training_data) / batch_size)-1:\n",
    "      print(f\"Batch num: {batch_num}\")\n",
    "      print(f\"Input data shape: {input_data[0].shape}\")\n",
    "    else:\n",
    "      pass\n",
    "    \n",
    "    optimizer.zero_grad()\n",
    "    x, y = input_data\n",
    "    x = x.to(device).float()\n",
    "    y = y.to(device)\n",
    "\n",
    "    output = rnn_model(x.reshape(-1, 28, 28))\n",
    "    loss = criterion(output, y)\n",
    "    loss.backward()\n",
    "    losses.append(loss.item())\n",
    "\n",
    "    optimizer.step()\n",
    "\n",
    "    if batch_num % 100 == 0:\n",
    "      print('\\tEpoch %d | Batch %d | Loss %6.2f' % (epoch, batch_num, loss.item()))\n",
    "  print('Epoch %d | Loss %6.2f' % (epoch, sum(losses)/len(losses)))\n",
    "plt.plot(losses)\n"
   ]
  },
  {
   "cell_type": "code",
   "execution_count": null,
   "metadata": {
    "colab": {
     "base_uri": "https://localhost:8080/"
    },
    "executionInfo": {
     "elapsed": 2063,
     "status": "ok",
     "timestamp": 1652622612924,
     "user": {
      "displayName": "Paul Kang",
      "userId": "12965346162025885549"
     },
     "user_tz": 240
    },
    "id": "HH5znfju-MXu",
    "outputId": "b00a85a5-8c78-400e-e74c-515537b516aa"
   },
   "outputs": [],
   "source": [
    "import csv\n",
    "rnn_model.eval()\n",
    "\n",
    "with open('cnn_submission.csv', 'w') as f:\n",
    "    fieldnames = ['ImageId', 'Label']\n",
    "    writer = csv.DictWriter(f, fieldnames=fieldnames, lineterminator = '\\n')\n",
    "    writer.writeheader()\n",
    "    image_id = 1\n",
    "\n",
    "    with torch.no_grad():\n",
    "        predictions = []\n",
    "        num = 1\n",
    "        for x, y_targ in test_dataloader:\n",
    "            x = x.to(device).float()\n",
    "\n",
    "            output = rnn_model(x.reshape(-1, 28, 28)).argmax(dim=1)\n",
    "            for y in output:\n",
    "                writer.writerow({fieldnames[0]: image_id,fieldnames[1]: y.item()})\n",
    "                image_id += 1\n",
    "            \n",
    "            if len(test_dataloader) % num == 5:\n",
    "              print(output)\n",
    "              print(y_targ)\n",
    "\n",
    "            num += 1\n",
    "            predictions.append(torch.eq(output, y_targ))\n",
    "        \n",
    "        print(predictions[0])\n",
    "        print(predictions[0].shape)\n",
    "        print(sum(predictions[:2]))\n",
    "        print(len(predictions))\n",
    "        tot_sum = 0\n",
    "        tot_len = 0\n",
    "        for tensor in predictions:\n",
    "          tot_sum += sum(tensor)\n",
    "          tot_len += len(tensor)\n",
    "        accuracy = tot_sum / tot_len\n",
    "        print(f\"Length of predictions: {tot_len}\")\n",
    "        print(f\"Accuracy : {accuracy}\")\n",
    "        "
   ]
  },
  {
   "cell_type": "code",
   "execution_count": null,
   "metadata": {
    "id": "O1cx_iQY-8-M"
   },
   "outputs": [],
   "source": []
  }
 ],
 "metadata": {
  "colab": {
   "authorship_tag": "ABX9TyOBBNaJlMd79qxjproCt20e",
   "collapsed_sections": [],
   "name": "mnist_mlp.ipynb",
   "provenance": []
  },
  "kernelspec": {
   "display_name": "Python 3 (ipykernel)",
   "language": "python",
   "name": "python3"
  },
  "language_info": {
   "codemirror_mode": {
    "name": "ipython",
    "version": 3
   },
   "file_extension": ".py",
   "mimetype": "text/x-python",
   "name": "python",
   "nbconvert_exporter": "python",
   "pygments_lexer": "ipython3",
   "version": "3.9.12"
  }
 },
 "nbformat": 4,
 "nbformat_minor": 1
}
