{
 "cells": [
  {
   "cell_type": "code",
   "execution_count": 1,
   "metadata": {
    "colab": {
     "base_uri": "https://localhost:8080/"
    },
    "executionInfo": {
     "elapsed": 811,
     "status": "ok",
     "timestamp": 1652215959608,
     "user": {
      "displayName": "Paul Kang",
      "userId": "12965346162025885549"
     },
     "user_tz": 240
    },
    "id": "5EwjlO12rnPi",
    "outputId": "cc1109a8-3394-4c23-ff62-e7f8d878c8e4"
   },
   "outputs": [],
   "source": [
    "#from google.colab import drive\n",
    "#drive.mount('/content/drive')\n"
   ]
  },
  {
   "cell_type": "code",
   "execution_count": 2,
   "metadata": {
    "colab": {
     "base_uri": "https://localhost:8080/"
    },
    "executionInfo": {
     "elapsed": 10,
     "status": "ok",
     "timestamp": 1652215959609,
     "user": {
      "displayName": "Paul Kang",
      "userId": "12965346162025885549"
     },
     "user_tz": 240
    },
    "id": "mFzciBL2r--i",
    "outputId": "668fe309-4d2d-4f6c-a7a1-e442f6c2950d"
   },
   "outputs": [],
   "source": [
    "#%cd /content/drive/My\\ Drive/pied-paper"
   ]
  },
  {
   "cell_type": "code",
   "execution_count": 3,
   "metadata": {
    "colab": {
     "base_uri": "https://localhost:8080/"
    },
    "executionInfo": {
     "elapsed": 6957,
     "status": "ok",
     "timestamp": 1652215966561,
     "user": {
      "displayName": "Paul Kang",
      "userId": "12965346162025885549"
     },
     "user_tz": 240
    },
    "id": "H5BOujQq6J6F",
    "outputId": "7f852fda-e2e5-46f1-f8fa-54871f69ec6d"
   },
   "outputs": [
    {
     "name": "stdout",
     "output_type": "stream",
     "text": [
      "Requirement already satisfied: torch==1.8.0 in c:\\users\\paulh\\appdata\\local\\programs\\python\\python39\\lib\\site-packages (1.8.0+cpu)\n",
      "Requirement already satisfied: numpy in c:\\users\\paulh\\appdata\\local\\programs\\python\\python39\\lib\\site-packages (from torch==1.8.0) (1.22.3)\n",
      "Requirement already satisfied: typing-extensions in c:\\users\\paulh\\appdata\\local\\programs\\python\\python39\\lib\\site-packages (from torch==1.8.0) (4.2.0)\n"
     ]
    },
    {
     "name": "stderr",
     "output_type": "stream",
     "text": [
      "WARNING: You are using pip version 22.0.4; however, version 22.1 is available.\n",
      "You should consider upgrading via the 'C:\\Users\\paulh\\AppData\\Local\\Programs\\Python\\Python39\\python.exe -m pip install --upgrade pip' command.\n"
     ]
    },
    {
     "name": "stdout",
     "output_type": "stream",
     "text": [
      "Requirement already satisfied: torchtext==0.9.0 in c:\\users\\paulh\\appdata\\local\\programs\\python\\python39\\lib\\site-packages (0.9.0)"
     ]
    },
    {
     "name": "stderr",
     "output_type": "stream",
     "text": [
      "WARNING: You are using pip version 22.0.4; however, version 22.1 is available.\n",
      "You should consider upgrading via the 'C:\\Users\\paulh\\AppData\\Local\\Programs\\Python\\Python39\\python.exe -m pip install --upgrade pip' command.\n"
     ]
    },
    {
     "name": "stdout",
     "output_type": "stream",
     "text": [
      "\n",
      "Requirement already satisfied: requests in c:\\users\\paulh\\appdata\\local\\programs\\python\\python39\\lib\\site-packages (from torchtext==0.9.0) (2.27.1)\n",
      "Requirement already satisfied: numpy in c:\\users\\paulh\\appdata\\local\\programs\\python\\python39\\lib\\site-packages (from torchtext==0.9.0) (1.22.3)\n",
      "Requirement already satisfied: torch==1.8.0 in c:\\users\\paulh\\appdata\\local\\programs\\python\\python39\\lib\\site-packages (from torchtext==0.9.0) (1.8.0+cpu)\n",
      "Requirement already satisfied: tqdm in c:\\users\\paulh\\appdata\\local\\programs\\python\\python39\\lib\\site-packages (from torchtext==0.9.0) (4.64.0)\n",
      "Requirement already satisfied: typing-extensions in c:\\users\\paulh\\appdata\\local\\programs\\python\\python39\\lib\\site-packages (from torch==1.8.0->torchtext==0.9.0) (4.2.0)\n",
      "Requirement already satisfied: urllib3<1.27,>=1.21.1 in c:\\users\\paulh\\appdata\\local\\programs\\python\\python39\\lib\\site-packages (from requests->torchtext==0.9.0) (1.26.9)\n",
      "Requirement already satisfied: certifi>=2017.4.17 in c:\\users\\paulh\\appdata\\local\\programs\\python\\python39\\lib\\site-packages (from requests->torchtext==0.9.0) (2021.10.8)\n",
      "Requirement already satisfied: idna<4,>=2.5 in c:\\users\\paulh\\appdata\\local\\programs\\python\\python39\\lib\\site-packages (from requests->torchtext==0.9.0) (3.3)\n",
      "Requirement already satisfied: charset-normalizer~=2.0.0 in c:\\users\\paulh\\appdata\\local\\programs\\python\\python39\\lib\\site-packages (from requests->torchtext==0.9.0) (2.0.12)\n",
      "Requirement already satisfied: colorama in c:\\users\\paulh\\appdata\\local\\programs\\python\\python39\\lib\\site-packages (from tqdm->torchtext==0.9.0) (0.4.4)\n"
     ]
    }
   ],
   "source": [
    "!pip install --upgrade torch==1.8.0\n",
    "!pip install --upgrade torchtext==0.9.0\n",
    "# !pip show torch\n",
    "# !pip show torchtext"
   ]
  },
  {
   "cell_type": "code",
   "execution_count": 10,
   "metadata": {},
   "outputs": [
    {
     "name": "stdout",
     "output_type": "stream",
     "text": [
      "Requirement already satisfied: sklearn in c:\\users\\paulh\\appdata\\local\\programs\\python\\python39\\lib\\site-packages (0.0)\n",
      "Requirement already satisfied: scikit-learn in c:\\users\\paulh\\appdata\\local\\programs\\python\\python39\\lib\\site-packages (from sklearn) (1.1.0)\n",
      "Requirement already satisfied: joblib>=1.0.0 in c:\\users\\paulh\\appdata\\local\\programs\\python\\python39\\lib\\site-packages (from scikit-learn->sklearn) (1.1.0)\n",
      "Requirement already satisfied: scipy>=1.3.2 in c:\\users\\paulh\\appdata\\local\\programs\\python\\python39\\lib\\site-packages (from scikit-learn->sklearn) (1.8.0)\n",
      "Requirement already satisfied: threadpoolctl>=2.0.0 in c:\\users\\paulh\\appdata\\local\\programs\\python\\python39\\lib\\site-packages (from scikit-learn->sklearn) (3.1.0)\n",
      "Requirement already satisfied: numpy>=1.17.3 in c:\\users\\paulh\\appdata\\local\\programs\\python\\python39\\lib\\site-packages (from scikit-learn->sklearn) (1.22.3)\n"
     ]
    },
    {
     "name": "stderr",
     "output_type": "stream",
     "text": [
      "WARNING: You are using pip version 22.0.4; however, version 22.1 is available.\n",
      "You should consider upgrading via the 'C:\\Users\\paulh\\AppData\\Local\\Programs\\Python\\Python39\\python.exe -m pip install --upgrade pip' command.\n"
     ]
    }
   ],
   "source": [
    "!pip install sklearn"
   ]
  },
  {
   "cell_type": "code",
   "execution_count": 11,
   "metadata": {
    "id": "kvG3q2dWpj4Y"
   },
   "outputs": [],
   "source": [
    "import numpy as np\n",
    "import pandas as pd\n",
    "\n",
    "news_path = 'data/news.csv'\n",
    "destination_folder = 'preprocessed'"
   ]
  },
  {
   "cell_type": "code",
   "execution_count": 12,
   "metadata": {
    "colab": {
     "base_uri": "https://localhost:8080/",
     "height": 206
    },
    "executionInfo": {
     "elapsed": 579,
     "status": "ok",
     "timestamp": 1652215967308,
     "user": {
      "displayName": "Paul Kang",
      "userId": "12965346162025885549"
     },
     "user_tz": 240
    },
    "id": "GSah0_Lgpnrv",
    "outputId": "7dabef90-3604-4101-97f8-b9e0ac8aa6d2"
   },
   "outputs": [
    {
     "data": {
      "text/html": [
       "<div>\n",
       "<style scoped>\n",
       "    .dataframe tbody tr th:only-of-type {\n",
       "        vertical-align: middle;\n",
       "    }\n",
       "\n",
       "    .dataframe tbody tr th {\n",
       "        vertical-align: top;\n",
       "    }\n",
       "\n",
       "    .dataframe thead th {\n",
       "        text-align: right;\n",
       "    }\n",
       "</style>\n",
       "<table border=\"1\" class=\"dataframe\">\n",
       "  <thead>\n",
       "    <tr style=\"text-align: right;\">\n",
       "      <th></th>\n",
       "      <th>Unnamed: 0</th>\n",
       "      <th>title</th>\n",
       "      <th>text</th>\n",
       "      <th>label</th>\n",
       "    </tr>\n",
       "  </thead>\n",
       "  <tbody>\n",
       "    <tr>\n",
       "      <th>0</th>\n",
       "      <td>8476</td>\n",
       "      <td>You Can Smell Hillary’s Fear</td>\n",
       "      <td>Daniel Greenfield, a Shillman Journalism Fello...</td>\n",
       "      <td>FAKE</td>\n",
       "    </tr>\n",
       "    <tr>\n",
       "      <th>1</th>\n",
       "      <td>10294</td>\n",
       "      <td>Watch The Exact Moment Paul Ryan Committed Pol...</td>\n",
       "      <td>Google Pinterest Digg Linkedin Reddit Stumbleu...</td>\n",
       "      <td>FAKE</td>\n",
       "    </tr>\n",
       "    <tr>\n",
       "      <th>2</th>\n",
       "      <td>3608</td>\n",
       "      <td>Kerry to go to Paris in gesture of sympathy</td>\n",
       "      <td>U.S. Secretary of State John F. Kerry said Mon...</td>\n",
       "      <td>REAL</td>\n",
       "    </tr>\n",
       "    <tr>\n",
       "      <th>3</th>\n",
       "      <td>10142</td>\n",
       "      <td>Bernie supporters on Twitter erupt in anger ag...</td>\n",
       "      <td>— Kaydee King (@KaydeeKing) November 9, 2016 T...</td>\n",
       "      <td>FAKE</td>\n",
       "    </tr>\n",
       "    <tr>\n",
       "      <th>4</th>\n",
       "      <td>875</td>\n",
       "      <td>The Battle of New York: Why This Primary Matters</td>\n",
       "      <td>It's primary day in New York and front-runners...</td>\n",
       "      <td>REAL</td>\n",
       "    </tr>\n",
       "  </tbody>\n",
       "</table>\n",
       "</div>"
      ],
      "text/plain": [
       "   Unnamed: 0                                              title  \\\n",
       "0        8476                       You Can Smell Hillary’s Fear   \n",
       "1       10294  Watch The Exact Moment Paul Ryan Committed Pol...   \n",
       "2        3608        Kerry to go to Paris in gesture of sympathy   \n",
       "3       10142  Bernie supporters on Twitter erupt in anger ag...   \n",
       "4         875   The Battle of New York: Why This Primary Matters   \n",
       "\n",
       "                                                text label  \n",
       "0  Daniel Greenfield, a Shillman Journalism Fello...  FAKE  \n",
       "1  Google Pinterest Digg Linkedin Reddit Stumbleu...  FAKE  \n",
       "2  U.S. Secretary of State John F. Kerry said Mon...  REAL  \n",
       "3  — Kaydee King (@KaydeeKing) November 9, 2016 T...  FAKE  \n",
       "4  It's primary day in New York and front-runners...  REAL  "
      ]
     },
     "execution_count": 12,
     "metadata": {},
     "output_type": "execute_result"
    }
   ],
   "source": [
    "news_raw = pd.read_csv(news_path)\n",
    "news_raw.head()"
   ]
  },
  {
   "cell_type": "code",
   "execution_count": 13,
   "metadata": {
    "id": "WnNbu10dqVUb"
   },
   "outputs": [],
   "source": [
    "first_n_words = 200\n",
    "\n",
    "def trim_string(x):\n",
    "    x = x.split(maxsplit=first_n_words)\n",
    "    x = ' '.join(x[:first_n_words])\n",
    "    return x"
   ]
  },
  {
   "cell_type": "code",
   "execution_count": 14,
   "metadata": {
    "id": "SSoJc-nLsa7A"
   },
   "outputs": [],
   "source": [
    "news_raw['label'] = (news_raw['label'] == 'FAKE').astype(int)\n",
    "news_raw['titletext'] = news_raw['title'] + ' ' + news_raw['text']\n",
    "news_raw = news_raw.reindex(columns=['label', 'title', 'text', 'titletext'])\n",
    "\n",
    "news_raw.drop(news_raw[news_raw.text.str.len() < 5].index, inplace=True)\n",
    "\n",
    "news_raw['text'] = news_raw['text'].apply(trim_string)\n",
    "news_raw['titletext'] = news_raw['titletext'].apply(trim_string)\n",
    "\n",
    "news_real = news_raw[news_raw['label'] == 0]\n",
    "news_fake = news_raw[news_raw['label'] == 1]"
   ]
  },
  {
   "cell_type": "code",
   "execution_count": 15,
   "metadata": {
    "id": "FvGeelDmscrB"
   },
   "outputs": [],
   "source": [
    "from sklearn.model_selection import train_test_split\n",
    "\n",
    "train_test_ratio = 0.10\n",
    "train_valid_ratio = 0.80\n",
    "\n",
    "# Train-test split\n",
    "news_real_full_train, news_real_test = train_test_split(news_real, train_size = train_test_ratio, random_state = 1)\n",
    "news_fake_full_train, news_fake_test = train_test_split(news_fake, train_size = train_test_ratio, random_state = 1)\n",
    "\n",
    "# Train-valid split\n",
    "news_real_train, news_real_valid = train_test_split(news_real_full_train, train_size = train_valid_ratio, random_state = 1)\n",
    "news_fake_train, news_fake_valid = train_test_split(news_fake_full_train, train_size = train_valid_ratio, random_state = 1)"
   ]
  },
  {
   "cell_type": "code",
   "execution_count": 16,
   "metadata": {
    "colab": {
     "base_uri": "https://localhost:8080/"
    },
    "executionInfo": {
     "elapsed": 13,
     "status": "ok",
     "timestamp": 1652215967983,
     "user": {
      "displayName": "Paul Kang",
      "userId": "12965346162025885549"
     },
     "user_tz": 240
    },
    "id": "0-x-P6Ensetx",
    "outputId": "8c9b4517-10fc-4eb0-f5eb-309d8a092531"
   },
   "outputs": [
    {
     "name": "stdout",
     "output_type": "stream",
     "text": [
      "(253, 4)\n",
      "(64, 4)\n",
      "(2854, 4)\n"
     ]
    }
   ],
   "source": [
    "print(news_real_train.shape)\n",
    "print(news_real_valid.shape)\n",
    "print(news_real_test.shape)"
   ]
  },
  {
   "cell_type": "code",
   "execution_count": 17,
   "metadata": {
    "id": "qdbXnoBSsgs8"
   },
   "outputs": [],
   "source": [
    "# Concatenate splits of different labels\n",
    "news_train = pd.concat([news_real_train, news_fake_train], ignore_index=False, sort=False)\n",
    "news_valid = pd.concat([news_real_valid, news_fake_valid], ignore_index=False, sort=False)\n",
    "news_test = pd.concat([news_real_test, news_fake_test], ignore_index=False, sort=False)"
   ]
  },
  {
   "cell_type": "code",
   "execution_count": 18,
   "metadata": {
    "colab": {
     "base_uri": "https://localhost:8080/"
    },
    "executionInfo": {
     "elapsed": 13,
     "status": "ok",
     "timestamp": 1652215967984,
     "user": {
      "displayName": "Paul Kang",
      "userId": "12965346162025885549"
     },
     "user_tz": 240
    },
    "id": "mTcct72psiPb",
    "outputId": "6797b7b1-c91c-4544-e84e-dc5ab394d387"
   },
   "outputs": [
    {
     "name": "stdout",
     "output_type": "stream",
     "text": [
      "(502, 4)\n",
      "(127, 4)\n",
      "(5670, 4)\n"
     ]
    }
   ],
   "source": [
    "print(news_train.shape)\n",
    "print(news_valid.shape)\n",
    "print(news_test.shape)"
   ]
  },
  {
   "cell_type": "code",
   "execution_count": 19,
   "metadata": {
    "id": "UjCamlsXsjSf"
   },
   "outputs": [],
   "source": [
    "# Write preprocessed data\n",
    "news_train.to_csv(destination_folder + '/train.csv', index=False)\n",
    "news_valid.to_csv(destination_folder + '/valid.csv', index=False)\n",
    "news_test.to_csv(destination_folder + '/test.csv', index=False)"
   ]
  }
 ],
 "metadata": {
  "colab": {
   "authorship_tag": "ABX9TyNrt3BYAK72gA6kncVPBtNW",
   "collapsed_sections": [],
   "name": "text_preprocessing.ipynb",
   "provenance": []
  },
  "kernelspec": {
   "display_name": "Python 3 (ipykernel)",
   "language": "python",
   "name": "python3"
  },
  "language_info": {
   "codemirror_mode": {
    "name": "ipython",
    "version": 3
   },
   "file_extension": ".py",
   "mimetype": "text/x-python",
   "name": "python",
   "nbconvert_exporter": "python",
   "pygments_lexer": "ipython3",
   "version": "3.9.12"
  }
 },
 "nbformat": 4,
 "nbformat_minor": 1
}
